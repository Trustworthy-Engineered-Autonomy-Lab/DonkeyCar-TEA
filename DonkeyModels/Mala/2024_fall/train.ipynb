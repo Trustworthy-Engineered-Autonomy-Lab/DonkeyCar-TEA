{
 "cells": [
  {
   "cell_type": "code",
   "execution_count": 1,
   "id": "c528267f-e62f-4203-a7f7-584a7ac830d2",
   "metadata": {
    "scrolled": true,
    "tags": []
   },
   "outputs": [
    {
     "name": "stdout",
     "output_type": "stream",
     "text": [
      "Loading data from ../data/data_0202/processed_data.npz\n",
      "Loaded 10645 images.\n",
      "You are using `reverse` flag.\n",
      "Loading data from ../data/data_0202/processed_data_r.npz\n",
      "Loaded 10645 images.\n",
      "10645 10645 10645\n",
      "21290 21290 21290\n"
     ]
    },
    {
     "name": "stderr",
     "output_type": "stream",
     "text": [
      "2024-12-04 21:41:31.375155: I tensorflow/core/platform/cpu_feature_guard.cc:142] This TensorFlow binary is optimized with oneAPI Deep Neural Network Library (oneDNN) to use the following CPU instructions in performance-critical operations:  SSE4.1 SSE4.2 AVX AVX2 FMA\n",
      "To enable them in other operations, rebuild TensorFlow with the appropriate compiler flags.\n",
      "2024-12-04 21:41:32.376266: I tensorflow/core/common_runtime/gpu/gpu_device.cc:1510] Created device /job:localhost/replica:0/task:0/device:GPU:0 with 78912 MB memory:  -> device: 0, name: NVIDIA A100-SXM4-80GB, pci bus id: 0000:90:00.0, compute capability: 8.0\n",
      "2024-12-04 21:41:33,268 - INFO - Model: \"regression_tanh\"\n",
      "2024-12-04 21:41:33,270 - INFO - _________________________________________________________________\n",
      "2024-12-04 21:41:33,272 - INFO - Layer (type)                 Output Shape              Param #   \n",
      "2024-12-04 21:41:33,273 - INFO - =================================================================\n",
      "2024-12-04 21:41:33,274 - INFO - img_in (InputLayer)          [(None, 144, 224)]        0         \n",
      "2024-12-04 21:41:33,275 - INFO - _________________________________________________________________\n",
      "2024-12-04 21:41:33,276 - INFO - conv1d_1 (Conv1D)            (None, 70, 24)            26904     \n",
      "2024-12-04 21:41:33,278 - INFO - _________________________________________________________________\n",
      "2024-12-04 21:41:33,279 - INFO - dropout (Dropout)            (None, 70, 24)            0         \n",
      "2024-12-04 21:41:33,280 - INFO - _________________________________________________________________\n",
      "2024-12-04 21:41:33,281 - INFO - conv1d_2 (Conv1D)            (None, 68, 32)            2336      \n",
      "2024-12-04 21:41:33,282 - INFO - _________________________________________________________________\n",
      "2024-12-04 21:41:33,283 - INFO - dropout_1 (Dropout)          (None, 68, 32)            0         \n",
      "2024-12-04 21:41:33,285 - INFO - _________________________________________________________________\n",
      "2024-12-04 21:41:33,286 - INFO - conv1d_3 (Conv1D)            (None, 66, 32)            3104      \n",
      "2024-12-04 21:41:33,287 - INFO - _________________________________________________________________\n",
      "2024-12-04 21:41:33,288 - INFO - dropout_2 (Dropout)          (None, 66, 32)            0         \n",
      "2024-12-04 21:41:33,289 - INFO - _________________________________________________________________\n",
      "2024-12-04 21:41:33,290 - INFO - flattened (Flatten)          (None, 2112)              0         \n",
      "2024-12-04 21:41:33,292 - INFO - _________________________________________________________________\n",
      "2024-12-04 21:41:33,293 - INFO - dense_1 (Dense)              (None, 50)                105650    \n",
      "2024-12-04 21:41:33,294 - INFO - _________________________________________________________________\n",
      "2024-12-04 21:41:33,295 - INFO - dropout_3 (Dropout)          (None, 50)                0         \n",
      "2024-12-04 21:41:33,296 - INFO - _________________________________________________________________\n",
      "2024-12-04 21:41:33,297 - INFO - outputs (Dense)              (None, 1)                 51        \n",
      "2024-12-04 21:41:33,298 - INFO - =================================================================\n",
      "2024-12-04 21:41:33,298 - INFO - Total params: 138,045\n",
      "2024-12-04 21:41:33,300 - INFO - Trainable params: 138,045\n",
      "2024-12-04 21:41:33,301 - INFO - Non-trainable params: 0\n",
      "2024-12-04 21:41:33,301 - INFO - _________________________________________________________________\n",
      "2024-12-04 21:41:36.415501: I tensorflow/compiler/mlir/mlir_graph_optimization_pass.cc:185] None of the MLIR Optimization Passes are enabled (registered 2)\n"
     ]
    },
    {
     "name": "stdout",
     "output_type": "stream",
     "text": [
      "Epoch 1/1000\n"
     ]
    },
    {
     "name": "stderr",
     "output_type": "stream",
     "text": [
      "2024-12-04 21:41:37.383428: I tensorflow/stream_executor/cuda/cuda_dnn.cc:369] Loaded cuDNN version 8201\n",
      "2024-12-04 21:41:38.195959: I tensorflow/core/platform/default/subprocess.cc:304] Start cannot spawn child process: No such file or directory\n",
      "2024-12-04 21:41:38.197454: I tensorflow/core/platform/default/subprocess.cc:304] Start cannot spawn child process: No such file or directory\n",
      "2024-12-04 21:41:38.197468: W tensorflow/stream_executor/gpu/asm_compiler.cc:77] Couldn't get ptxas version string: Internal: Couldn't invoke ptxas --version\n",
      "2024-12-04 21:41:38.198260: I tensorflow/core/platform/default/subprocess.cc:304] Start cannot spawn child process: No such file or directory\n",
      "2024-12-04 21:41:38.198304: W tensorflow/stream_executor/gpu/redzone_allocator.cc:314] Internal: Failed to launch ptxas\n",
      "Relying on driver to perform ptx compilation. \n",
      "Modify $PATH to customize ptxas location.\n",
      "This message will be only logged once.\n",
      "2024-12-04 21:41:39.082304: I tensorflow/stream_executor/cuda/cuda_blas.cc:1760] TensorFloat-32 will be used for the matrix multiplication. This will only be logged once.\n"
     ]
    },
    {
     "name": "stdout",
     "output_type": "stream",
     "text": [
      "1131/1131 [==============================] - 7s 3ms/step - loss: 0.8113 - val_loss: 0.7179\n"
     ]
    },
    {
     "name": "stderr",
     "output_type": "stream",
     "text": [
      "2024-12-04 21:41:43,562 - INFO - Epoch 1: {'loss': 0.8112719655036926, 'val_loss': 0.7179113030433655, 'lr': 1e-04}\n"
     ]
    },
    {
     "name": "stdout",
     "output_type": "stream",
     "text": [
      "Epoch 2/1000\n",
      "1131/1131 [==============================] - 3s 3ms/step - loss: 0.7448 - val_loss: 0.6368\n"
     ]
    },
    {
     "name": "stderr",
     "output_type": "stream",
     "text": [
      "2024-12-04 21:41:46,657 - INFO - Epoch 2: {'loss': 0.7448371052742004, 'val_loss': 0.6368070244789124, 'lr': 1e-04}\n"
     ]
    },
    {
     "name": "stdout",
     "output_type": "stream",
     "text": [
      "Epoch 3/1000\n",
      "1131/1131 [==============================] - 3s 3ms/step - loss: 0.6541 - val_loss: 0.5315\n"
     ]
    },
    {
     "name": "stderr",
     "output_type": "stream",
     "text": [
      "2024-12-04 21:41:49,736 - INFO - Epoch 3: {'loss': 0.6540947556495667, 'val_loss': 0.5314629673957825, 'lr': 1e-04}\n"
     ]
    },
    {
     "name": "stdout",
     "output_type": "stream",
     "text": [
      "Epoch 4/1000\n",
      "1131/1131 [==============================] - 3s 3ms/step - loss: 0.8098 - val_loss: 0.4793\n"
     ]
    },
    {
     "name": "stderr",
     "output_type": "stream",
     "text": [
      "2024-12-04 21:41:52,856 - INFO - Epoch 4: {'loss': 0.8097664713859558, 'val_loss': 0.4792737364768982, 'lr': 1e-04}\n"
     ]
    },
    {
     "name": "stdout",
     "output_type": "stream",
     "text": [
      "Epoch 5/1000\n",
      "1131/1131 [==============================] - 3s 3ms/step - loss: 0.7230 - val_loss: 0.3849\n"
     ]
    },
    {
     "name": "stderr",
     "output_type": "stream",
     "text": [
      "2024-12-04 21:41:55,852 - INFO - Epoch 5: {'loss': 0.722960889339447, 'val_loss': 0.3848872482776642, 'lr': 1e-04}\n"
     ]
    },
    {
     "name": "stdout",
     "output_type": "stream",
     "text": [
      "Epoch 6/1000\n",
      "1131/1131 [==============================] - 3s 3ms/step - loss: 0.4991 - val_loss: 0.4139\n"
     ]
    },
    {
     "name": "stderr",
     "output_type": "stream",
     "text": [
      "2024-12-04 21:41:58,853 - INFO - Epoch 6: {'loss': 0.49909380078315735, 'val_loss': 0.4138791561126709, 'lr': 1e-04}\n"
     ]
    },
    {
     "name": "stdout",
     "output_type": "stream",
     "text": [
      "Epoch 7/1000\n",
      "1131/1131 [==============================] - 3s 3ms/step - loss: 0.4426 - val_loss: 0.3712\n"
     ]
    },
    {
     "name": "stderr",
     "output_type": "stream",
     "text": [
      "2024-12-04 21:42:01,866 - INFO - Epoch 7: {'loss': 0.44263023138046265, 'val_loss': 0.37124910950660706, 'lr': 1e-04}\n"
     ]
    },
    {
     "name": "stdout",
     "output_type": "stream",
     "text": [
      "Epoch 8/1000\n",
      "1131/1131 [==============================] - 3s 3ms/step - loss: 0.4088 - val_loss: 0.3531\n"
     ]
    },
    {
     "name": "stderr",
     "output_type": "stream",
     "text": [
      "2024-12-04 21:42:04,959 - INFO - Epoch 8: {'loss': 0.4087983965873718, 'val_loss': 0.3531319200992584, 'lr': 1e-04}\n"
     ]
    },
    {
     "name": "stdout",
     "output_type": "stream",
     "text": [
      "Epoch 9/1000\n",
      "1131/1131 [==============================] - 3s 3ms/step - loss: 0.3648 - val_loss: 0.3248\n"
     ]
    },
    {
     "name": "stderr",
     "output_type": "stream",
     "text": [
      "2024-12-04 21:42:08,045 - INFO - Epoch 9: {'loss': 0.3648201525211334, 'val_loss': 0.3247898817062378, 'lr': 1e-04}\n"
     ]
    },
    {
     "name": "stdout",
     "output_type": "stream",
     "text": [
      "Epoch 10/1000\n",
      "1131/1131 [==============================] - 3s 3ms/step - loss: 0.3185 - val_loss: 0.2942\n"
     ]
    },
    {
     "name": "stderr",
     "output_type": "stream",
     "text": [
      "2024-12-04 21:42:11,042 - INFO - Epoch 10: {'loss': 0.3184662163257599, 'val_loss': 0.29418739676475525, 'lr': 1e-04}\n"
     ]
    },
    {
     "name": "stdout",
     "output_type": "stream",
     "text": [
      "Epoch 11/1000\n",
      "1131/1131 [==============================] - 3s 3ms/step - loss: 0.2911 - val_loss: 0.2608\n"
     ]
    },
    {
     "name": "stderr",
     "output_type": "stream",
     "text": [
      "2024-12-04 21:42:14,012 - INFO - Epoch 11: {'loss': 0.29112279415130615, 'val_loss': 0.2608121931552887, 'lr': 1e-04}\n"
     ]
    },
    {
     "name": "stdout",
     "output_type": "stream",
     "text": [
      "Epoch 12/1000\n",
      "1131/1131 [==============================] - 3s 3ms/step - loss: 0.2804 - val_loss: 0.2482\n"
     ]
    },
    {
     "name": "stderr",
     "output_type": "stream",
     "text": [
      "2024-12-04 21:42:17,001 - INFO - Epoch 12: {'loss': 0.2804078757762909, 'val_loss': 0.24816051125526428, 'lr': 1e-04}\n"
     ]
    },
    {
     "name": "stdout",
     "output_type": "stream",
     "text": [
      "Epoch 13/1000\n",
      "1131/1131 [==============================] - 3s 3ms/step - loss: 0.3635 - val_loss: 0.4205\n"
     ]
    },
    {
     "name": "stderr",
     "output_type": "stream",
     "text": [
      "2024-12-04 21:42:20,013 - INFO - Epoch 13: {'loss': 0.363528847694397, 'val_loss': 0.4204707741737366, 'lr': 1e-04}\n"
     ]
    },
    {
     "name": "stdout",
     "output_type": "stream",
     "text": [
      "Epoch 14/1000\n",
      "1131/1131 [==============================] - 3s 3ms/step - loss: 0.4196 - val_loss: 0.4220\n"
     ]
    },
    {
     "name": "stderr",
     "output_type": "stream",
     "text": [
      "2024-12-04 21:42:23,047 - INFO - Epoch 14: {'loss': 0.4196421504020691, 'val_loss': 0.42195358872413635, 'lr': 1e-04}\n"
     ]
    },
    {
     "name": "stdout",
     "output_type": "stream",
     "text": [
      "Epoch 15/1000\n",
      "1131/1131 [==============================] - 3s 3ms/step - loss: 0.3157 - val_loss: 0.2773\n"
     ]
    },
    {
     "name": "stderr",
     "output_type": "stream",
     "text": [
      "2024-12-04 21:42:26,172 - INFO - Epoch 15: {'loss': 0.3157307505607605, 'val_loss': 0.27726542949676514, 'lr': 1e-04}\n"
     ]
    },
    {
     "name": "stdout",
     "output_type": "stream",
     "text": [
      "Epoch 16/1000\n",
      "1131/1131 [==============================] - 3s 3ms/step - loss: 0.2703 - val_loss: 0.2345\n"
     ]
    },
    {
     "name": "stderr",
     "output_type": "stream",
     "text": [
      "2024-12-04 21:42:29,275 - INFO - Epoch 16: {'loss': 0.2703372538089752, 'val_loss': 0.23450756072998047, 'lr': 1e-04}\n"
     ]
    },
    {
     "name": "stdout",
     "output_type": "stream",
     "text": [
      "Epoch 17/1000\n",
      "1131/1131 [==============================] - 3s 3ms/step - loss: 0.2687 - val_loss: 0.2430\n"
     ]
    },
    {
     "name": "stderr",
     "output_type": "stream",
     "text": [
      "2024-12-04 21:42:32,354 - INFO - Epoch 17: {'loss': 0.26871368288993835, 'val_loss': 0.2430335432291031, 'lr': 1e-04}\n"
     ]
    },
    {
     "name": "stdout",
     "output_type": "stream",
     "text": [
      "Epoch 18/1000\n",
      "1131/1131 [==============================] - 3s 3ms/step - loss: 0.2625 - val_loss: 0.2700\n"
     ]
    },
    {
     "name": "stderr",
     "output_type": "stream",
     "text": [
      "2024-12-04 21:42:35,372 - INFO - Epoch 18: {'loss': 0.2625102996826172, 'val_loss': 0.2699744999408722, 'lr': 1e-04}\n"
     ]
    },
    {
     "name": "stdout",
     "output_type": "stream",
     "text": [
      "Epoch 19/1000\n",
      "1131/1131 [==============================] - 3s 3ms/step - loss: 0.2684 - val_loss: 0.2855\n"
     ]
    },
    {
     "name": "stderr",
     "output_type": "stream",
     "text": [
      "2024-12-04 21:42:38,413 - INFO - Epoch 19: {'loss': 0.26837438344955444, 'val_loss': 0.2855338454246521, 'lr': 1e-04}\n"
     ]
    },
    {
     "name": "stdout",
     "output_type": "stream",
     "text": [
      "Epoch 20/1000\n",
      "1131/1131 [==============================] - 3s 3ms/step - loss: 0.2828 - val_loss: 0.2642\n"
     ]
    },
    {
     "name": "stderr",
     "output_type": "stream",
     "text": [
      "2024-12-04 21:42:41,407 - INFO - Epoch 20: {'loss': 0.28283384442329407, 'val_loss': 0.2641802728176117, 'lr': 1e-04}\n"
     ]
    },
    {
     "name": "stdout",
     "output_type": "stream",
     "text": [
      "Epoch 21/1000\n",
      "1131/1131 [==============================] - 3s 3ms/step - loss: 0.2627 - val_loss: 0.2519\n"
     ]
    },
    {
     "name": "stderr",
     "output_type": "stream",
     "text": [
      "2024-12-04 21:42:44,448 - INFO - Epoch 21: {'loss': 0.26271045207977295, 'val_loss': 0.2518685460090637, 'lr': 1e-04}\n"
     ]
    },
    {
     "name": "stdout",
     "output_type": "stream",
     "text": [
      "Epoch 22/1000\n",
      "1131/1131 [==============================] - 3s 3ms/step - loss: 0.2631 - val_loss: 0.2352\n"
     ]
    },
    {
     "name": "stderr",
     "output_type": "stream",
     "text": [
      "2024-12-04 21:42:47,463 - INFO - Epoch 22: {'loss': 0.2630898058414459, 'val_loss': 0.23517781496047974, 'lr': 1e-04}\n"
     ]
    },
    {
     "name": "stdout",
     "output_type": "stream",
     "text": [
      "Epoch 23/1000\n",
      "1131/1131 [==============================] - 3s 3ms/step - loss: 0.2542 - val_loss: 0.2259\n"
     ]
    },
    {
     "name": "stderr",
     "output_type": "stream",
     "text": [
      "2024-12-04 21:42:50,540 - INFO - Epoch 23: {'loss': 0.25420501828193665, 'val_loss': 0.2258976697921753, 'lr': 1e-04}\n"
     ]
    },
    {
     "name": "stdout",
     "output_type": "stream",
     "text": [
      "Epoch 24/1000\n",
      "1131/1131 [==============================] - 3s 3ms/step - loss: 0.2462 - val_loss: 0.2243\n"
     ]
    },
    {
     "name": "stderr",
     "output_type": "stream",
     "text": [
      "2024-12-04 21:42:53,663 - INFO - Epoch 24: {'loss': 0.24619048833847046, 'val_loss': 0.22434860467910767, 'lr': 1e-04}\n"
     ]
    },
    {
     "name": "stdout",
     "output_type": "stream",
     "text": [
      "Epoch 25/1000\n",
      "1131/1131 [==============================] - 3s 3ms/step - loss: 0.2415 - val_loss: 0.2183\n"
     ]
    },
    {
     "name": "stderr",
     "output_type": "stream",
     "text": [
      "2024-12-04 21:42:56,723 - INFO - Epoch 25: {'loss': 0.24147067964076996, 'val_loss': 0.218345507979393, 'lr': 1e-04}\n"
     ]
    },
    {
     "name": "stdout",
     "output_type": "stream",
     "text": [
      "Epoch 26/1000\n",
      "1131/1131 [==============================] - 3s 3ms/step - loss: 0.2376 - val_loss: 0.2098\n"
     ]
    },
    {
     "name": "stderr",
     "output_type": "stream",
     "text": [
      "2024-12-04 21:42:59,826 - INFO - Epoch 26: {'loss': 0.2376175820827484, 'val_loss': 0.20976389944553375, 'lr': 1e-04}\n"
     ]
    },
    {
     "name": "stdout",
     "output_type": "stream",
     "text": [
      "Epoch 27/1000\n",
      "1131/1131 [==============================] - 3s 3ms/step - loss: 0.2555 - val_loss: 0.2234\n"
     ]
    },
    {
     "name": "stderr",
     "output_type": "stream",
     "text": [
      "2024-12-04 21:43:02,975 - INFO - Epoch 27: {'loss': 0.2555343210697174, 'val_loss': 0.22337105870246887, 'lr': 1e-04}\n"
     ]
    },
    {
     "name": "stdout",
     "output_type": "stream",
     "text": [
      "Epoch 28/1000\n",
      "1131/1131 [==============================] - 3s 3ms/step - loss: 0.2434 - val_loss: 0.2394\n"
     ]
    },
    {
     "name": "stderr",
     "output_type": "stream",
     "text": [
      "2024-12-04 21:43:06,064 - INFO - Epoch 28: {'loss': 0.24342045187950134, 'val_loss': 0.2394379824399948, 'lr': 1e-04}\n"
     ]
    },
    {
     "name": "stdout",
     "output_type": "stream",
     "text": [
      "Epoch 29/1000\n",
      "1131/1131 [==============================] - 3s 3ms/step - loss: 0.2409 - val_loss: 0.2093\n"
     ]
    },
    {
     "name": "stderr",
     "output_type": "stream",
     "text": [
      "2024-12-04 21:43:09,160 - INFO - Epoch 29: {'loss': 0.2408987134695053, 'val_loss': 0.20934127271175385, 'lr': 1e-04}\n"
     ]
    },
    {
     "name": "stdout",
     "output_type": "stream",
     "text": [
      "Epoch 30/1000\n",
      "1131/1131 [==============================] - 3s 3ms/step - loss: 0.2423 - val_loss: 0.2193\n"
     ]
    },
    {
     "name": "stderr",
     "output_type": "stream",
     "text": [
      "2024-12-04 21:43:12,305 - INFO - Epoch 30: {'loss': 0.24229758977890015, 'val_loss': 0.2193423956632614, 'lr': 1e-04}\n"
     ]
    },
    {
     "name": "stdout",
     "output_type": "stream",
     "text": [
      "Epoch 31/1000\n",
      "1131/1131 [==============================] - 3s 3ms/step - loss: 0.2356 - val_loss: 0.2073\n"
     ]
    },
    {
     "name": "stderr",
     "output_type": "stream",
     "text": [
      "2024-12-04 21:43:15,490 - INFO - Epoch 31: {'loss': 0.2355756312608719, 'val_loss': 0.20732611417770386, 'lr': 1e-04}\n"
     ]
    },
    {
     "name": "stdout",
     "output_type": "stream",
     "text": [
      "Epoch 32/1000\n",
      "1131/1131 [==============================] - 3s 3ms/step - loss: 0.2264 - val_loss: 0.2055\n"
     ]
    },
    {
     "name": "stderr",
     "output_type": "stream",
     "text": [
      "2024-12-04 21:43:18,643 - INFO - Epoch 32: {'loss': 0.2264343649148941, 'val_loss': 0.20552583038806915, 'lr': 1e-04}\n"
     ]
    },
    {
     "name": "stdout",
     "output_type": "stream",
     "text": [
      "Epoch 33/1000\n",
      "1131/1131 [==============================] - 3s 3ms/step - loss: 0.2281 - val_loss: 0.2021\n"
     ]
    },
    {
     "name": "stderr",
     "output_type": "stream",
     "text": [
      "2024-12-04 21:43:21,778 - INFO - Epoch 33: {'loss': 0.22811496257781982, 'val_loss': 0.2020789235830307, 'lr': 1e-04}\n"
     ]
    },
    {
     "name": "stdout",
     "output_type": "stream",
     "text": [
      "Epoch 34/1000\n",
      "1131/1131 [==============================] - 3s 3ms/step - loss: 0.2260 - val_loss: 0.2002\n"
     ]
    },
    {
     "name": "stderr",
     "output_type": "stream",
     "text": [
      "2024-12-04 21:43:24,899 - INFO - Epoch 34: {'loss': 0.2259618192911148, 'val_loss': 0.20021860301494598, 'lr': 1e-04}\n"
     ]
    },
    {
     "name": "stdout",
     "output_type": "stream",
     "text": [
      "Epoch 35/1000\n",
      "1131/1131 [==============================] - 3s 3ms/step - loss: 0.2235 - val_loss: 0.2084\n"
     ]
    },
    {
     "name": "stderr",
     "output_type": "stream",
     "text": [
      "2024-12-04 21:43:28,084 - INFO - Epoch 35: {'loss': 0.22354555130004883, 'val_loss': 0.20837685465812683, 'lr': 1e-04}\n"
     ]
    },
    {
     "name": "stdout",
     "output_type": "stream",
     "text": [
      "Epoch 36/1000\n",
      "1131/1131 [==============================] - 3s 3ms/step - loss: 0.2260 - val_loss: 0.2051\n"
     ]
    },
    {
     "name": "stderr",
     "output_type": "stream",
     "text": [
      "2024-12-04 21:43:31,269 - INFO - Epoch 36: {'loss': 0.22601854801177979, 'val_loss': 0.20513686537742615, 'lr': 1e-04}\n"
     ]
    },
    {
     "name": "stdout",
     "output_type": "stream",
     "text": [
      "Epoch 37/1000\n",
      "1131/1131 [==============================] - 3s 3ms/step - loss: 0.2442 - val_loss: 0.2133\n"
     ]
    },
    {
     "name": "stderr",
     "output_type": "stream",
     "text": [
      "2024-12-04 21:43:34,408 - INFO - Epoch 37: {'loss': 0.2441500723361969, 'val_loss': 0.21328578889369965, 'lr': 1e-04}\n"
     ]
    },
    {
     "name": "stdout",
     "output_type": "stream",
     "text": [
      "Epoch 38/1000\n",
      "1131/1131 [==============================] - 3s 3ms/step - loss: 0.2617 - val_loss: 0.2540\n"
     ]
    },
    {
     "name": "stderr",
     "output_type": "stream",
     "text": [
      "2024-12-04 21:43:37,486 - INFO - Epoch 38: {'loss': 0.26166269183158875, 'val_loss': 0.2540203332901001, 'lr': 1e-04}\n"
     ]
    },
    {
     "name": "stdout",
     "output_type": "stream",
     "text": [
      "Epoch 39/1000\n",
      "1131/1131 [==============================] - 3s 3ms/step - loss: 0.2656 - val_loss: 0.2480\n"
     ]
    },
    {
     "name": "stderr",
     "output_type": "stream",
     "text": [
      "2024-12-04 21:43:40,582 - INFO - Epoch 39: {'loss': 0.2655574679374695, 'val_loss': 0.24798084795475006, 'lr': 1e-04}\n"
     ]
    },
    {
     "name": "stdout",
     "output_type": "stream",
     "text": [
      "Epoch 40/1000\n",
      "1131/1131 [==============================] - 3s 3ms/step - loss: 0.2570 - val_loss: 0.2348\n"
     ]
    },
    {
     "name": "stderr",
     "output_type": "stream",
     "text": [
      "2024-12-04 21:43:43,662 - INFO - Epoch 40: {'loss': 0.2569994330406189, 'val_loss': 0.2347516268491745, 'lr': 1e-04}\n"
     ]
    },
    {
     "name": "stdout",
     "output_type": "stream",
     "text": [
      "Epoch 41/1000\n",
      "1131/1131 [==============================] - 3s 3ms/step - loss: 0.2582 - val_loss: 0.2455\n"
     ]
    },
    {
     "name": "stderr",
     "output_type": "stream",
     "text": [
      "2024-12-04 21:43:46,784 - INFO - Epoch 41: {'loss': 0.25816068053245544, 'val_loss': 0.2454591691493988, 'lr': 1e-04}\n"
     ]
    },
    {
     "name": "stdout",
     "output_type": "stream",
     "text": [
      "Epoch 42/1000\n",
      "1131/1131 [==============================] - 3s 3ms/step - loss: 0.2562 - val_loss: 0.2302\n"
     ]
    },
    {
     "name": "stderr",
     "output_type": "stream",
     "text": [
      "2024-12-04 21:43:49,906 - INFO - Epoch 42: {'loss': 0.25620201230049133, 'val_loss': 0.23020526766777039, 'lr': 1e-04}\n"
     ]
    },
    {
     "name": "stdout",
     "output_type": "stream",
     "text": [
      "Epoch 43/1000\n",
      "1131/1131 [==============================] - 3s 3ms/step - loss: 0.2493 - val_loss: 0.2294\n"
     ]
    },
    {
     "name": "stderr",
     "output_type": "stream",
     "text": [
      "2024-12-04 21:43:53,004 - INFO - Epoch 43: {'loss': 0.24925553798675537, 'val_loss': 0.22942601144313812, 'lr': 1e-04}\n"
     ]
    },
    {
     "name": "stdout",
     "output_type": "stream",
     "text": [
      "Epoch 44/1000\n",
      "1131/1131 [==============================] - 3s 3ms/step - loss: 0.2508 - val_loss: 0.2319\n"
     ]
    },
    {
     "name": "stderr",
     "output_type": "stream",
     "text": [
      "2024-12-04 21:43:56,199 - INFO - Epoch 44: {'loss': 0.25081321597099304, 'val_loss': 0.23185965418815613, 'lr': 1e-04}\n"
     ]
    },
    {
     "name": "stdout",
     "output_type": "stream",
     "text": [
      "Epoch 45/1000\n",
      "1131/1131 [==============================] - 3s 3ms/step - loss: 0.2468 - val_loss: 0.2219\n"
     ]
    },
    {
     "name": "stderr",
     "output_type": "stream",
     "text": [
      "2024-12-04 21:43:59,242 - INFO - Epoch 45: {'loss': 0.24683831632137299, 'val_loss': 0.22189393639564514, 'lr': 1e-04}\n"
     ]
    },
    {
     "name": "stdout",
     "output_type": "stream",
     "text": [
      "Epoch 46/1000\n",
      "1131/1131 [==============================] - 3s 3ms/step - loss: 0.2427 - val_loss: 0.2169\n"
     ]
    },
    {
     "name": "stderr",
     "output_type": "stream",
     "text": [
      "2024-12-04 21:44:02,287 - INFO - Epoch 46: {'loss': 0.2426995038986206, 'val_loss': 0.21690736711025238, 'lr': 1e-04}\n"
     ]
    },
    {
     "name": "stdout",
     "output_type": "stream",
     "text": [
      "Epoch 47/1000\n",
      "1131/1131 [==============================] - 3s 3ms/step - loss: 0.2423 - val_loss: 0.2123\n"
     ]
    },
    {
     "name": "stderr",
     "output_type": "stream",
     "text": [
      "2024-12-04 21:44:05,374 - INFO - Epoch 47: {'loss': 0.24229921400547028, 'val_loss': 0.212259903550148, 'lr': 1e-04}\n"
     ]
    },
    {
     "name": "stdout",
     "output_type": "stream",
     "text": [
      "Epoch 48/1000\n",
      "1131/1131 [==============================] - 3s 3ms/step - loss: 0.2378 - val_loss: 0.2149\n"
     ]
    },
    {
     "name": "stderr",
     "output_type": "stream",
     "text": [
      "2024-12-04 21:44:08,481 - INFO - Epoch 48: {'loss': 0.23782731592655182, 'val_loss': 0.2148798108100891, 'lr': 1e-04}\n"
     ]
    },
    {
     "name": "stdout",
     "output_type": "stream",
     "text": [
      "Epoch 49/1000\n",
      "1131/1131 [==============================] - 3s 3ms/step - loss: 0.2378 - val_loss: 0.2156\n"
     ]
    },
    {
     "name": "stderr",
     "output_type": "stream",
     "text": [
      "2024-12-04 21:44:11,583 - INFO - Epoch 49: {'loss': 0.23779642581939697, 'val_loss': 0.21563436090946198, 'lr': 1e-04}\n"
     ]
    },
    {
     "name": "stdout",
     "output_type": "stream",
     "text": [
      "Epoch 50/1000\n",
      "1131/1131 [==============================] - 3s 3ms/step - loss: 0.2367 - val_loss: 0.2204\n"
     ]
    },
    {
     "name": "stderr",
     "output_type": "stream",
     "text": [
      "2024-12-04 21:44:14,665 - INFO - Epoch 50: {'loss': 0.23669274151325226, 'val_loss': 0.2203570008277893, 'lr': 1e-04}\n"
     ]
    },
    {
     "name": "stdout",
     "output_type": "stream",
     "text": [
      "Epoch 51/1000\n",
      "1131/1131 [==============================] - 3s 3ms/step - loss: 0.2339 - val_loss: 0.2149\n"
     ]
    },
    {
     "name": "stderr",
     "output_type": "stream",
     "text": [
      "2024-12-04 21:44:17,766 - INFO - Epoch 51: {'loss': 0.23391886055469513, 'val_loss': 0.21488112211227417, 'lr': 1e-04}\n"
     ]
    },
    {
     "name": "stdout",
     "output_type": "stream",
     "text": [
      "Epoch 52/1000\n",
      "1131/1131 [==============================] - 3s 3ms/step - loss: 0.2353 - val_loss: 0.2457\n"
     ]
    },
    {
     "name": "stderr",
     "output_type": "stream",
     "text": [
      "2024-12-04 21:44:20,788 - INFO - Epoch 52: {'loss': 0.2353219836950302, 'val_loss': 0.2457001507282257, 'lr': 1e-04}\n"
     ]
    },
    {
     "name": "stdout",
     "output_type": "stream",
     "text": [
      "Epoch 53/1000\n",
      "1131/1131 [==============================] - 3s 3ms/step - loss: 0.2360 - val_loss: 0.2081\n"
     ]
    },
    {
     "name": "stderr",
     "output_type": "stream",
     "text": [
      "2024-12-04 21:44:23,733 - INFO - Epoch 53: {'loss': 0.2359926998615265, 'val_loss': 0.20808421075344086, 'lr': 1e-04}\n"
     ]
    },
    {
     "name": "stdout",
     "output_type": "stream",
     "text": [
      "Epoch 54/1000\n",
      "1131/1131 [==============================] - 3s 3ms/step - loss: 0.2287 - val_loss: 0.2142\n"
     ]
    },
    {
     "name": "stderr",
     "output_type": "stream",
     "text": [
      "2024-12-04 21:44:26,801 - INFO - Epoch 54: {'loss': 0.22868628799915314, 'val_loss': 0.21416255831718445, 'lr': 1e-04}\n"
     ]
    },
    {
     "name": "stdout",
     "output_type": "stream",
     "text": [
      "\n",
      "Epoch 00054: ReduceLROnPlateau reducing learning rate to 4.999999873689376e-05.\n",
      "Epoch 55/1000\n",
      "1131/1131 [==============================] - 3s 3ms/step - loss: 0.2250 - val_loss: 0.2074\n"
     ]
    },
    {
     "name": "stderr",
     "output_type": "stream",
     "text": [
      "2024-12-04 21:44:29,810 - INFO - Epoch 55: {'loss': 0.2249537855386734, 'val_loss': 0.20740024745464325, 'lr': 5e-05}\n"
     ]
    },
    {
     "name": "stdout",
     "output_type": "stream",
     "text": [
      "Epoch 56/1000\n",
      "1131/1131 [==============================] - 3s 3ms/step - loss: 0.2235 - val_loss: 0.2073\n"
     ]
    },
    {
     "name": "stderr",
     "output_type": "stream",
     "text": [
      "2024-12-04 21:44:32,801 - INFO - Epoch 56: {'loss': 0.22346962988376617, 'val_loss': 0.2073427438735962, 'lr': 5e-05}\n"
     ]
    },
    {
     "name": "stdout",
     "output_type": "stream",
     "text": [
      "Epoch 57/1000\n",
      "1131/1131 [==============================] - 3s 3ms/step - loss: 0.2239 - val_loss: 0.2072\n"
     ]
    },
    {
     "name": "stderr",
     "output_type": "stream",
     "text": [
      "2024-12-04 21:44:35,861 - INFO - Epoch 57: {'loss': 0.22385621070861816, 'val_loss': 0.20715759694576263, 'lr': 5e-05}\n"
     ]
    },
    {
     "name": "stdout",
     "output_type": "stream",
     "text": [
      "Epoch 58/1000\n",
      "1131/1131 [==============================] - 3s 3ms/step - loss: 0.2220 - val_loss: 0.2092\n"
     ]
    },
    {
     "name": "stderr",
     "output_type": "stream",
     "text": [
      "2024-12-04 21:44:38,914 - INFO - Epoch 58: {'loss': 0.2220214456319809, 'val_loss': 0.209220752120018, 'lr': 5e-05}\n"
     ]
    },
    {
     "name": "stdout",
     "output_type": "stream",
     "text": [
      "Epoch 59/1000\n",
      "1131/1131 [==============================] - 3s 3ms/step - loss: 0.2247 - val_loss: 0.2077\n"
     ]
    },
    {
     "name": "stderr",
     "output_type": "stream",
     "text": [
      "2024-12-04 21:44:41,924 - INFO - Epoch 59: {'loss': 0.22468774020671844, 'val_loss': 0.20770993828773499, 'lr': 5e-05}\n"
     ]
    },
    {
     "name": "stdout",
     "output_type": "stream",
     "text": [
      "Epoch 60/1000\n",
      "1131/1131 [==============================] - 3s 3ms/step - loss: 0.2212 - val_loss: 0.2062\n"
     ]
    },
    {
     "name": "stderr",
     "output_type": "stream",
     "text": [
      "2024-12-04 21:44:44,995 - INFO - Epoch 60: {'loss': 0.22119027376174927, 'val_loss': 0.2062365710735321, 'lr': 5e-05}\n"
     ]
    },
    {
     "name": "stdout",
     "output_type": "stream",
     "text": [
      "Epoch 61/1000\n",
      "1131/1131 [==============================] - 3s 3ms/step - loss: 0.2214 - val_loss: 0.2055\n"
     ]
    },
    {
     "name": "stderr",
     "output_type": "stream",
     "text": [
      "2024-12-04 21:44:48,053 - INFO - Epoch 61: {'loss': 0.22135885059833527, 'val_loss': 0.20545540750026703, 'lr': 5e-05}\n"
     ]
    },
    {
     "name": "stdout",
     "output_type": "stream",
     "text": [
      "Epoch 62/1000\n",
      "1131/1131 [==============================] - 3s 3ms/step - loss: 0.2191 - val_loss: 0.2046\n"
     ]
    },
    {
     "name": "stderr",
     "output_type": "stream",
     "text": [
      "2024-12-04 21:44:51,177 - INFO - Epoch 62: {'loss': 0.21905268728733063, 'val_loss': 0.20464155077934265, 'lr': 5e-05}\n"
     ]
    },
    {
     "name": "stdout",
     "output_type": "stream",
     "text": [
      "Epoch 63/1000\n",
      "1131/1131 [==============================] - 3s 3ms/step - loss: 0.2222 - val_loss: 0.2059\n"
     ]
    },
    {
     "name": "stderr",
     "output_type": "stream",
     "text": [
      "2024-12-04 21:44:54,277 - INFO - Epoch 63: {'loss': 0.22223064303398132, 'val_loss': 0.20590250194072723, 'lr': 5e-05}\n"
     ]
    },
    {
     "name": "stdout",
     "output_type": "stream",
     "text": [
      "Epoch 64/1000\n",
      "1131/1131 [==============================] - 3s 3ms/step - loss: 0.2212 - val_loss: 0.2045\n"
     ]
    },
    {
     "name": "stderr",
     "output_type": "stream",
     "text": [
      "2024-12-04 21:44:57,441 - INFO - Epoch 64: {'loss': 0.22121661901474, 'val_loss': 0.2044517546892166, 'lr': 5e-05}\n"
     ]
    },
    {
     "name": "stdout",
     "output_type": "stream",
     "text": [
      "Epoch 65/1000\n",
      "1131/1131 [==============================] - 3s 3ms/step - loss: 0.2250 - val_loss: 0.2096\n"
     ]
    },
    {
     "name": "stderr",
     "output_type": "stream",
     "text": [
      "2024-12-04 21:45:00,561 - INFO - Epoch 65: {'loss': 0.22497153282165527, 'val_loss': 0.20960842072963715, 'lr': 5e-05}\n"
     ]
    },
    {
     "name": "stdout",
     "output_type": "stream",
     "text": [
      "Epoch 66/1000\n",
      "1131/1131 [==============================] - 3s 3ms/step - loss: 0.2237 - val_loss: 0.2081\n"
     ]
    },
    {
     "name": "stderr",
     "output_type": "stream",
     "text": [
      "2024-12-04 21:45:03,634 - INFO - Epoch 66: {'loss': 0.22374045848846436, 'val_loss': 0.20805194973945618, 'lr': 5e-05}\n"
     ]
    },
    {
     "name": "stdout",
     "output_type": "stream",
     "text": [
      "Epoch 67/1000\n",
      "1131/1131 [==============================] - 3s 3ms/step - loss: 0.2240 - val_loss: 0.2089\n"
     ]
    },
    {
     "name": "stderr",
     "output_type": "stream",
     "text": [
      "2024-12-04 21:45:06,685 - INFO - Epoch 67: {'loss': 0.22404427826404572, 'val_loss': 0.20888029038906097, 'lr': 5e-05}\n"
     ]
    },
    {
     "name": "stdout",
     "output_type": "stream",
     "text": [
      "Epoch 68/1000\n",
      "1131/1131 [==============================] - 3s 3ms/step - loss: 0.2329 - val_loss: 0.2126\n"
     ]
    },
    {
     "name": "stderr",
     "output_type": "stream",
     "text": [
      "2024-12-04 21:45:09,708 - INFO - Epoch 68: {'loss': 0.23293271660804749, 'val_loss': 0.21263739466667175, 'lr': 5e-05}\n"
     ]
    },
    {
     "name": "stdout",
     "output_type": "stream",
     "text": [
      "Epoch 69/1000\n",
      "1131/1131 [==============================] - 3s 3ms/step - loss: 0.2276 - val_loss: 0.2035\n"
     ]
    },
    {
     "name": "stderr",
     "output_type": "stream",
     "text": [
      "2024-12-04 21:45:12,703 - INFO - Epoch 69: {'loss': 0.22758539021015167, 'val_loss': 0.20351216197013855, 'lr': 5e-05}\n"
     ]
    },
    {
     "name": "stdout",
     "output_type": "stream",
     "text": [
      "Epoch 70/1000\n",
      "1131/1131 [==============================] - 3s 3ms/step - loss: 0.2198 - val_loss: 0.2027\n"
     ]
    },
    {
     "name": "stderr",
     "output_type": "stream",
     "text": [
      "2024-12-04 21:45:15,679 - INFO - Epoch 70: {'loss': 0.21976478397846222, 'val_loss': 0.20274978876113892, 'lr': 5e-05}\n"
     ]
    },
    {
     "name": "stdout",
     "output_type": "stream",
     "text": [
      "Epoch 71/1000\n",
      "1131/1131 [==============================] - 3s 3ms/step - loss: 0.2195 - val_loss: 0.2047\n"
     ]
    },
    {
     "name": "stderr",
     "output_type": "stream",
     "text": [
      "2024-12-04 21:45:18,686 - INFO - Epoch 71: {'loss': 0.2195044457912445, 'val_loss': 0.204706072807312, 'lr': 5e-05}\n"
     ]
    },
    {
     "name": "stdout",
     "output_type": "stream",
     "text": [
      "Epoch 72/1000\n",
      "1131/1131 [==============================] - 3s 3ms/step - loss: 0.2202 - val_loss: 0.2045\n"
     ]
    },
    {
     "name": "stderr",
     "output_type": "stream",
     "text": [
      "2024-12-04 21:45:21,721 - INFO - Epoch 72: {'loss': 0.22016115486621857, 'val_loss': 0.20453548431396484, 'lr': 5e-05}\n"
     ]
    },
    {
     "name": "stdout",
     "output_type": "stream",
     "text": [
      "Epoch 73/1000\n",
      "1131/1131 [==============================] - 3s 3ms/step - loss: 0.2226 - val_loss: 0.1990\n"
     ]
    },
    {
     "name": "stderr",
     "output_type": "stream",
     "text": [
      "2024-12-04 21:45:24,712 - INFO - Epoch 73: {'loss': 0.2226010113954544, 'val_loss': 0.1990099996328354, 'lr': 5e-05}\n"
     ]
    },
    {
     "name": "stdout",
     "output_type": "stream",
     "text": [
      "Epoch 74/1000\n",
      "1131/1131 [==============================] - 3s 3ms/step - loss: 0.2178 - val_loss: 0.2013\n"
     ]
    },
    {
     "name": "stderr",
     "output_type": "stream",
     "text": [
      "2024-12-04 21:45:27,720 - INFO - Epoch 74: {'loss': 0.21775026619434357, 'val_loss': 0.20126189291477203, 'lr': 5e-05}\n"
     ]
    },
    {
     "name": "stdout",
     "output_type": "stream",
     "text": [
      "Epoch 75/1000\n",
      "1131/1131 [==============================] - 3s 3ms/step - loss: 0.2214 - val_loss: 0.2011\n"
     ]
    },
    {
     "name": "stderr",
     "output_type": "stream",
     "text": [
      "2024-12-04 21:45:30,838 - INFO - Epoch 75: {'loss': 0.2214176505804062, 'val_loss': 0.2011173516511917, 'lr': 5e-05}\n"
     ]
    },
    {
     "name": "stdout",
     "output_type": "stream",
     "text": [
      "Epoch 76/1000\n",
      "1131/1131 [==============================] - 3s 3ms/step - loss: 0.2194 - val_loss: 0.2003\n"
     ]
    },
    {
     "name": "stderr",
     "output_type": "stream",
     "text": [
      "2024-12-04 21:45:33,918 - INFO - Epoch 76: {'loss': 0.21942681074142456, 'val_loss': 0.20026391744613647, 'lr': 5e-05}\n"
     ]
    },
    {
     "name": "stdout",
     "output_type": "stream",
     "text": [
      "Epoch 77/1000\n",
      "1131/1131 [==============================] - 3s 3ms/step - loss: 0.2217 - val_loss: 0.2013\n"
     ]
    },
    {
     "name": "stderr",
     "output_type": "stream",
     "text": [
      "2024-12-04 21:45:36,975 - INFO - Epoch 77: {'loss': 0.22170262038707733, 'val_loss': 0.20127928256988525, 'lr': 5e-05}\n"
     ]
    },
    {
     "name": "stdout",
     "output_type": "stream",
     "text": [
      "Epoch 78/1000\n",
      "1131/1131 [==============================] - 3s 3ms/step - loss: 0.2178 - val_loss: 0.2011\n"
     ]
    },
    {
     "name": "stderr",
     "output_type": "stream",
     "text": [
      "2024-12-04 21:45:39,990 - INFO - Epoch 78: {'loss': 0.2178136706352234, 'val_loss': 0.2010982632637024, 'lr': 5e-05}\n"
     ]
    },
    {
     "name": "stdout",
     "output_type": "stream",
     "text": [
      "Epoch 79/1000\n",
      "1131/1131 [==============================] - 3s 3ms/step - loss: 0.2201 - val_loss: 0.1975\n"
     ]
    },
    {
     "name": "stderr",
     "output_type": "stream",
     "text": [
      "2024-12-04 21:45:43,078 - INFO - Epoch 79: {'loss': 0.220103457570076, 'val_loss': 0.19746491312980652, 'lr': 5e-05}\n"
     ]
    },
    {
     "name": "stdout",
     "output_type": "stream",
     "text": [
      "Epoch 80/1000\n",
      "1131/1131 [==============================] - 3s 3ms/step - loss: 0.2142 - val_loss: 0.1991\n"
     ]
    },
    {
     "name": "stderr",
     "output_type": "stream",
     "text": [
      "2024-12-04 21:45:46,201 - INFO - Epoch 80: {'loss': 0.21422794461250305, 'val_loss': 0.19905148446559906, 'lr': 5e-05}\n"
     ]
    },
    {
     "name": "stdout",
     "output_type": "stream",
     "text": [
      "Epoch 81/1000\n",
      "1131/1131 [==============================] - 3s 3ms/step - loss: 0.2141 - val_loss: 0.1965\n"
     ]
    },
    {
     "name": "stderr",
     "output_type": "stream",
     "text": [
      "2024-12-04 21:45:49,315 - INFO - Epoch 81: {'loss': 0.21411561965942383, 'val_loss': 0.19650550186634064, 'lr': 5e-05}\n"
     ]
    },
    {
     "name": "stdout",
     "output_type": "stream",
     "text": [
      "Epoch 82/1000\n",
      "1131/1131 [==============================] - 3s 3ms/step - loss: 0.2136 - val_loss: 0.1972\n"
     ]
    },
    {
     "name": "stderr",
     "output_type": "stream",
     "text": [
      "2024-12-04 21:45:52,437 - INFO - Epoch 82: {'loss': 0.21355092525482178, 'val_loss': 0.19718585908412933, 'lr': 5e-05}\n"
     ]
    },
    {
     "name": "stdout",
     "output_type": "stream",
     "text": [
      "Epoch 83/1000\n",
      "1131/1131 [==============================] - 3s 3ms/step - loss: 0.2171 - val_loss: 0.1977\n"
     ]
    },
    {
     "name": "stderr",
     "output_type": "stream",
     "text": [
      "2024-12-04 21:45:55,527 - INFO - Epoch 83: {'loss': 0.2171071618795395, 'val_loss': 0.19770760834217072, 'lr': 5e-05}\n"
     ]
    },
    {
     "name": "stdout",
     "output_type": "stream",
     "text": [
      "Epoch 84/1000\n",
      "1131/1131 [==============================] - 3s 3ms/step - loss: 0.2122 - val_loss: 0.1963\n"
     ]
    },
    {
     "name": "stderr",
     "output_type": "stream",
     "text": [
      "2024-12-04 21:45:58,645 - INFO - Epoch 84: {'loss': 0.2122393697500229, 'val_loss': 0.19629937410354614, 'lr': 5e-05}\n"
     ]
    },
    {
     "name": "stdout",
     "output_type": "stream",
     "text": [
      "Epoch 85/1000\n",
      "1131/1131 [==============================] - 3s 3ms/step - loss: 0.2151 - val_loss: 0.1993\n"
     ]
    },
    {
     "name": "stderr",
     "output_type": "stream",
     "text": [
      "2024-12-04 21:46:01,761 - INFO - Epoch 85: {'loss': 0.21511240303516388, 'val_loss': 0.19931817054748535, 'lr': 5e-05}\n"
     ]
    },
    {
     "name": "stdout",
     "output_type": "stream",
     "text": [
      "Epoch 86/1000\n",
      "1131/1131 [==============================] - 3s 3ms/step - loss: 0.2161 - val_loss: 0.1959\n"
     ]
    },
    {
     "name": "stderr",
     "output_type": "stream",
     "text": [
      "2024-12-04 21:46:04,877 - INFO - Epoch 86: {'loss': 0.21606937050819397, 'val_loss': 0.1959390938282013, 'lr': 5e-05}\n"
     ]
    },
    {
     "name": "stdout",
     "output_type": "stream",
     "text": [
      "Epoch 87/1000\n",
      "1131/1131 [==============================] - 3s 3ms/step - loss: 0.2163 - val_loss: 0.1951\n"
     ]
    },
    {
     "name": "stderr",
     "output_type": "stream",
     "text": [
      "2024-12-04 21:46:07,990 - INFO - Epoch 87: {'loss': 0.216347336769104, 'val_loss': 0.19513265788555145, 'lr': 5e-05}\n"
     ]
    },
    {
     "name": "stdout",
     "output_type": "stream",
     "text": [
      "Epoch 88/1000\n",
      "1131/1131 [==============================] - 3s 3ms/step - loss: 0.2187 - val_loss: 0.2117\n"
     ]
    },
    {
     "name": "stderr",
     "output_type": "stream",
     "text": [
      "2024-12-04 21:46:11,165 - INFO - Epoch 88: {'loss': 0.2186698168516159, 'val_loss': 0.21167515218257904, 'lr': 5e-05}\n"
     ]
    },
    {
     "name": "stdout",
     "output_type": "stream",
     "text": [
      "Epoch 89/1000\n",
      "1131/1131 [==============================] - 3s 3ms/step - loss: 0.2174 - val_loss: 0.1967\n"
     ]
    },
    {
     "name": "stderr",
     "output_type": "stream",
     "text": [
      "2024-12-04 21:46:14,210 - INFO - Epoch 89: {'loss': 0.217397540807724, 'val_loss': 0.1966761201620102, 'lr': 5e-05}\n"
     ]
    },
    {
     "name": "stdout",
     "output_type": "stream",
     "text": [
      "Epoch 90/1000\n",
      "1131/1131 [==============================] - 3s 3ms/step - loss: 0.2135 - val_loss: 0.1944\n"
     ]
    },
    {
     "name": "stderr",
     "output_type": "stream",
     "text": [
      "2024-12-04 21:46:17,313 - INFO - Epoch 90: {'loss': 0.21354223787784576, 'val_loss': 0.1943635493516922, 'lr': 5e-05}\n"
     ]
    },
    {
     "name": "stdout",
     "output_type": "stream",
     "text": [
      "Epoch 91/1000\n",
      "1131/1131 [==============================] - 3s 3ms/step - loss: 0.2142 - val_loss: 0.1986\n"
     ]
    },
    {
     "name": "stderr",
     "output_type": "stream",
     "text": [
      "2024-12-04 21:46:20,486 - INFO - Epoch 91: {'loss': 0.21422512829303741, 'val_loss': 0.1986016482114792, 'lr': 5e-05}\n"
     ]
    },
    {
     "name": "stdout",
     "output_type": "stream",
     "text": [
      "Epoch 92/1000\n",
      "1131/1131 [==============================] - 3s 3ms/step - loss: 0.2144 - val_loss: 0.1982\n"
     ]
    },
    {
     "name": "stderr",
     "output_type": "stream",
     "text": [
      "2024-12-04 21:46:23,657 - INFO - Epoch 92: {'loss': 0.21441234648227692, 'val_loss': 0.19819027185440063, 'lr': 5e-05}\n"
     ]
    },
    {
     "name": "stdout",
     "output_type": "stream",
     "text": [
      "Epoch 93/1000\n",
      "1131/1131 [==============================] - 3s 3ms/step - loss: 0.2159 - val_loss: 0.1990\n"
     ]
    },
    {
     "name": "stderr",
     "output_type": "stream",
     "text": [
      "2024-12-04 21:46:26,753 - INFO - Epoch 93: {'loss': 0.2158610075712204, 'val_loss': 0.19899532198905945, 'lr': 5e-05}\n"
     ]
    },
    {
     "name": "stdout",
     "output_type": "stream",
     "text": [
      "Epoch 94/1000\n",
      "1131/1131 [==============================] - 3s 3ms/step - loss: 0.2163 - val_loss: 0.2013\n"
     ]
    },
    {
     "name": "stderr",
     "output_type": "stream",
     "text": [
      "2024-12-04 21:46:29,848 - INFO - Epoch 94: {'loss': 0.2162991315126419, 'val_loss': 0.20126470923423767, 'lr': 5e-05}\n"
     ]
    },
    {
     "name": "stdout",
     "output_type": "stream",
     "text": [
      "Epoch 95/1000\n",
      "1131/1131 [==============================] - 3s 3ms/step - loss: 0.2156 - val_loss: 0.1959\n"
     ]
    },
    {
     "name": "stderr",
     "output_type": "stream",
     "text": [
      "2024-12-04 21:46:33,152 - INFO - Epoch 95: {'loss': 0.21563886106014252, 'val_loss': 0.1958838552236557, 'lr': 5e-05}\n"
     ]
    },
    {
     "name": "stdout",
     "output_type": "stream",
     "text": [
      "Epoch 96/1000\n",
      "1131/1131 [==============================] - 3s 3ms/step - loss: 0.2115 - val_loss: 0.1945\n"
     ]
    },
    {
     "name": "stderr",
     "output_type": "stream",
     "text": [
      "2024-12-04 21:46:36,342 - INFO - Epoch 96: {'loss': 0.21145522594451904, 'val_loss': 0.1944502890110016, 'lr': 5e-05}\n"
     ]
    },
    {
     "name": "stdout",
     "output_type": "stream",
     "text": [
      "Epoch 97/1000\n",
      "1131/1131 [==============================] - 3s 3ms/step - loss: 0.2126 - val_loss: 0.1962\n"
     ]
    },
    {
     "name": "stderr",
     "output_type": "stream",
     "text": [
      "2024-12-04 21:46:39,460 - INFO - Epoch 97: {'loss': 0.21256470680236816, 'val_loss': 0.19616572558879852, 'lr': 5e-05}\n"
     ]
    },
    {
     "name": "stdout",
     "output_type": "stream",
     "text": [
      "Epoch 98/1000\n",
      "1131/1131 [==============================] - 3s 3ms/step - loss: 0.2112 - val_loss: 0.1955\n"
     ]
    },
    {
     "name": "stderr",
     "output_type": "stream",
     "text": [
      "2024-12-04 21:46:42,585 - INFO - Epoch 98: {'loss': 0.21117068827152252, 'val_loss': 0.19554290175437927, 'lr': 5e-05}\n"
     ]
    },
    {
     "name": "stdout",
     "output_type": "stream",
     "text": [
      "Epoch 99/1000\n",
      "1131/1131 [==============================] - 3s 3ms/step - loss: 0.2114 - val_loss: 0.1943\n"
     ]
    },
    {
     "name": "stderr",
     "output_type": "stream",
     "text": [
      "2024-12-04 21:46:45,663 - INFO - Epoch 99: {'loss': 0.211385577917099, 'val_loss': 0.19433587789535522, 'lr': 5e-05}\n"
     ]
    },
    {
     "name": "stdout",
     "output_type": "stream",
     "text": [
      "Epoch 100/1000\n",
      "1131/1131 [==============================] - 3s 3ms/step - loss: 0.2135 - val_loss: 0.1946\n"
     ]
    },
    {
     "name": "stderr",
     "output_type": "stream",
     "text": [
      "2024-12-04 21:46:48,758 - INFO - Epoch 100: {'loss': 0.21348842978477478, 'val_loss': 0.19460999965667725, 'lr': 5e-05}\n"
     ]
    },
    {
     "name": "stdout",
     "output_type": "stream",
     "text": [
      "Epoch 101/1000\n",
      "1131/1131 [==============================] - 3s 3ms/step - loss: 0.2169 - val_loss: 0.1954\n"
     ]
    },
    {
     "name": "stderr",
     "output_type": "stream",
     "text": [
      "2024-12-04 21:46:51,863 - INFO - Epoch 101: {'loss': 0.21687066555023193, 'val_loss': 0.1954127848148346, 'lr': 5e-05}\n"
     ]
    },
    {
     "name": "stdout",
     "output_type": "stream",
     "text": [
      "Epoch 102/1000\n",
      "1131/1131 [==============================] - 3s 3ms/step - loss: 0.2101 - val_loss: 0.1953\n"
     ]
    },
    {
     "name": "stderr",
     "output_type": "stream",
     "text": [
      "2024-12-04 21:46:54,938 - INFO - Epoch 102: {'loss': 0.21007278561592102, 'val_loss': 0.19530132412910461, 'lr': 5e-05}\n"
     ]
    },
    {
     "name": "stdout",
     "output_type": "stream",
     "text": [
      "Epoch 103/1000\n",
      "1131/1131 [==============================] - 3s 3ms/step - loss: 0.2139 - val_loss: 0.1963\n"
     ]
    },
    {
     "name": "stderr",
     "output_type": "stream",
     "text": [
      "2024-12-04 21:46:57,980 - INFO - Epoch 103: {'loss': 0.21387726068496704, 'val_loss': 0.19630971550941467, 'lr': 5e-05}\n"
     ]
    },
    {
     "name": "stdout",
     "output_type": "stream",
     "text": [
      "Epoch 104/1000\n",
      "1131/1131 [==============================] - 3s 3ms/step - loss: 0.2132 - val_loss: 0.1952\n"
     ]
    },
    {
     "name": "stderr",
     "output_type": "stream",
     "text": [
      "2024-12-04 21:47:01,085 - INFO - Epoch 104: {'loss': 0.21317023038864136, 'val_loss': 0.19517730176448822, 'lr': 5e-05}\n"
     ]
    },
    {
     "name": "stdout",
     "output_type": "stream",
     "text": [
      "Epoch 105/1000\n",
      "1131/1131 [==============================] - 3s 3ms/step - loss: 0.2209 - val_loss: 0.2067\n"
     ]
    },
    {
     "name": "stderr",
     "output_type": "stream",
     "text": [
      "2024-12-04 21:47:04,102 - INFO - Epoch 105: {'loss': 0.22094789147377014, 'val_loss': 0.20672526955604553, 'lr': 5e-05}\n"
     ]
    },
    {
     "name": "stdout",
     "output_type": "stream",
     "text": [
      "Epoch 106/1000\n",
      "1131/1131 [==============================] - 3s 3ms/step - loss: 0.2227 - val_loss: 0.1986\n"
     ]
    },
    {
     "name": "stderr",
     "output_type": "stream",
     "text": [
      "2024-12-04 21:47:07,242 - INFO - Epoch 106: {'loss': 0.22267600893974304, 'val_loss': 0.19856230914592743, 'lr': 5e-05}\n"
     ]
    },
    {
     "name": "stdout",
     "output_type": "stream",
     "text": [
      "Epoch 107/1000\n",
      "1131/1131 [==============================] - 3s 3ms/step - loss: 0.2173 - val_loss: 0.1974\n"
     ]
    },
    {
     "name": "stderr",
     "output_type": "stream",
     "text": [
      "2024-12-04 21:47:10,419 - INFO - Epoch 107: {'loss': 0.21731111407279968, 'val_loss': 0.1974109560251236, 'lr': 5e-05}\n"
     ]
    },
    {
     "name": "stdout",
     "output_type": "stream",
     "text": [
      "Epoch 108/1000\n",
      "1131/1131 [==============================] - 3s 3ms/step - loss: 0.2180 - val_loss: 0.1945\n"
     ]
    },
    {
     "name": "stderr",
     "output_type": "stream",
     "text": [
      "2024-12-04 21:47:13,523 - INFO - Epoch 108: {'loss': 0.21804064512252808, 'val_loss': 0.19451762735843658, 'lr': 5e-05}\n"
     ]
    },
    {
     "name": "stdout",
     "output_type": "stream",
     "text": [
      "Epoch 109/1000\n",
      "1131/1131 [==============================] - 3s 3ms/step - loss: 0.2147 - val_loss: 0.1920\n"
     ]
    },
    {
     "name": "stderr",
     "output_type": "stream",
     "text": [
      "2024-12-04 21:47:16,652 - INFO - Epoch 109: {'loss': 0.21473930776119232, 'val_loss': 0.1920078545808792, 'lr': 5e-05}\n"
     ]
    },
    {
     "name": "stdout",
     "output_type": "stream",
     "text": [
      "Epoch 110/1000\n",
      "1131/1131 [==============================] - 3s 3ms/step - loss: 0.2149 - val_loss: 0.1931\n"
     ]
    },
    {
     "name": "stderr",
     "output_type": "stream",
     "text": [
      "2024-12-04 21:47:19,791 - INFO - Epoch 110: {'loss': 0.21493005752563477, 'val_loss': 0.19307918846607208, 'lr': 5e-05}\n"
     ]
    },
    {
     "name": "stdout",
     "output_type": "stream",
     "text": [
      "Epoch 111/1000\n",
      "1131/1131 [==============================] - 3s 3ms/step - loss: 0.2177 - val_loss: 0.2054\n"
     ]
    },
    {
     "name": "stderr",
     "output_type": "stream",
     "text": [
      "2024-12-04 21:47:22,785 - INFO - Epoch 111: {'loss': 0.21771594882011414, 'val_loss': 0.20540381968021393, 'lr': 5e-05}\n"
     ]
    },
    {
     "name": "stdout",
     "output_type": "stream",
     "text": [
      "Epoch 112/1000\n",
      "1131/1131 [==============================] - 3s 3ms/step - loss: 0.2125 - val_loss: 0.1928\n"
     ]
    },
    {
     "name": "stderr",
     "output_type": "stream",
     "text": [
      "2024-12-04 21:47:25,728 - INFO - Epoch 112: {'loss': 0.21251732110977173, 'val_loss': 0.19282838702201843, 'lr': 5e-05}\n"
     ]
    },
    {
     "name": "stdout",
     "output_type": "stream",
     "text": [
      "Epoch 113/1000\n",
      "1131/1131 [==============================] - 3s 3ms/step - loss: 0.2114 - val_loss: 0.1938\n"
     ]
    },
    {
     "name": "stderr",
     "output_type": "stream",
     "text": [
      "2024-12-04 21:47:28,748 - INFO - Epoch 113: {'loss': 0.21136374771595, 'val_loss': 0.19375908374786377, 'lr': 5e-05}\n"
     ]
    },
    {
     "name": "stdout",
     "output_type": "stream",
     "text": [
      "Epoch 114/1000\n",
      "1131/1131 [==============================] - 3s 3ms/step - loss: 0.2101 - val_loss: 0.1900\n"
     ]
    },
    {
     "name": "stderr",
     "output_type": "stream",
     "text": [
      "2024-12-04 21:47:31,817 - INFO - Epoch 114: {'loss': 0.2100946456193924, 'val_loss': 0.19000636041164398, 'lr': 5e-05}\n"
     ]
    },
    {
     "name": "stdout",
     "output_type": "stream",
     "text": [
      "Epoch 115/1000\n",
      "1131/1131 [==============================] - 3s 3ms/step - loss: 0.2091 - val_loss: 0.1903\n"
     ]
    },
    {
     "name": "stderr",
     "output_type": "stream",
     "text": [
      "2024-12-04 21:47:34,817 - INFO - Epoch 115: {'loss': 0.20907986164093018, 'val_loss': 0.19034484028816223, 'lr': 5e-05}\n"
     ]
    },
    {
     "name": "stdout",
     "output_type": "stream",
     "text": [
      "Epoch 116/1000\n",
      "1131/1131 [==============================] - 3s 3ms/step - loss: 0.2088 - val_loss: 0.1902\n"
     ]
    },
    {
     "name": "stderr",
     "output_type": "stream",
     "text": [
      "2024-12-04 21:47:37,812 - INFO - Epoch 116: {'loss': 0.20878951251506805, 'val_loss': 0.19021211564540863, 'lr': 5e-05}\n"
     ]
    },
    {
     "name": "stdout",
     "output_type": "stream",
     "text": [
      "Epoch 117/1000\n",
      "1131/1131 [==============================] - 3s 3ms/step - loss: 0.2124 - val_loss: 0.1908\n"
     ]
    },
    {
     "name": "stderr",
     "output_type": "stream",
     "text": [
      "2024-12-04 21:47:40,809 - INFO - Epoch 117: {'loss': 0.21243369579315186, 'val_loss': 0.19080986082553864, 'lr': 5e-05}\n"
     ]
    },
    {
     "name": "stdout",
     "output_type": "stream",
     "text": [
      "Epoch 118/1000\n",
      "1131/1131 [==============================] - 3s 3ms/step - loss: 0.2100 - val_loss: 0.1892\n"
     ]
    },
    {
     "name": "stderr",
     "output_type": "stream",
     "text": [
      "2024-12-04 21:47:43,813 - INFO - Epoch 118: {'loss': 0.20996065437793732, 'val_loss': 0.18916082382202148, 'lr': 5e-05}\n"
     ]
    },
    {
     "name": "stdout",
     "output_type": "stream",
     "text": [
      "Epoch 119/1000\n",
      "1131/1131 [==============================] - 3s 3ms/step - loss: 0.2098 - val_loss: 0.1919\n"
     ]
    },
    {
     "name": "stderr",
     "output_type": "stream",
     "text": [
      "2024-12-04 21:47:46,796 - INFO - Epoch 119: {'loss': 0.20979709923267365, 'val_loss': 0.19186322391033173, 'lr': 5e-05}\n"
     ]
    },
    {
     "name": "stdout",
     "output_type": "stream",
     "text": [
      "Epoch 120/1000\n",
      "1131/1131 [==============================] - 3s 3ms/step - loss: 0.2218 - val_loss: 0.2019\n"
     ]
    },
    {
     "name": "stderr",
     "output_type": "stream",
     "text": [
      "2024-12-04 21:47:49,812 - INFO - Epoch 120: {'loss': 0.22183451056480408, 'val_loss': 0.20185637474060059, 'lr': 5e-05}\n"
     ]
    },
    {
     "name": "stdout",
     "output_type": "stream",
     "text": [
      "Epoch 121/1000\n",
      "1131/1131 [==============================] - 3s 3ms/step - loss: 0.2100 - val_loss: 0.1974\n"
     ]
    },
    {
     "name": "stderr",
     "output_type": "stream",
     "text": [
      "2024-12-04 21:47:52,827 - INFO - Epoch 121: {'loss': 0.2099805474281311, 'val_loss': 0.19742389023303986, 'lr': 5e-05}\n"
     ]
    },
    {
     "name": "stdout",
     "output_type": "stream",
     "text": [
      "Epoch 122/1000\n",
      "1131/1131 [==============================] - 3s 3ms/step - loss: 0.2136 - val_loss: 0.1926\n"
     ]
    },
    {
     "name": "stderr",
     "output_type": "stream",
     "text": [
      "2024-12-04 21:47:55,810 - INFO - Epoch 122: {'loss': 0.213571235537529, 'val_loss': 0.19264785945415497, 'lr': 5e-05}\n"
     ]
    },
    {
     "name": "stdout",
     "output_type": "stream",
     "text": [
      "Epoch 123/1000\n",
      "1131/1131 [==============================] - 3s 3ms/step - loss: 0.2095 - val_loss: 0.2011\n"
     ]
    },
    {
     "name": "stderr",
     "output_type": "stream",
     "text": [
      "2024-12-04 21:47:58,824 - INFO - Epoch 123: {'loss': 0.20950637757778168, 'val_loss': 0.20107172429561615, 'lr': 5e-05}\n"
     ]
    },
    {
     "name": "stdout",
     "output_type": "stream",
     "text": [
      "Epoch 124/1000\n",
      "1131/1131 [==============================] - 3s 3ms/step - loss: 0.2085 - val_loss: 0.1923\n"
     ]
    },
    {
     "name": "stderr",
     "output_type": "stream",
     "text": [
      "2024-12-04 21:48:01,929 - INFO - Epoch 124: {'loss': 0.20846503973007202, 'val_loss': 0.19226732850074768, 'lr': 5e-05}\n"
     ]
    },
    {
     "name": "stdout",
     "output_type": "stream",
     "text": [
      "Epoch 125/1000\n",
      "1131/1131 [==============================] - 3s 3ms/step - loss: 0.2116 - val_loss: 0.1939\n"
     ]
    },
    {
     "name": "stderr",
     "output_type": "stream",
     "text": [
      "2024-12-04 21:48:04,978 - INFO - Epoch 125: {'loss': 0.2115834355354309, 'val_loss': 0.19385261833667755, 'lr': 5e-05}\n"
     ]
    },
    {
     "name": "stdout",
     "output_type": "stream",
     "text": [
      "Epoch 126/1000\n",
      "1131/1131 [==============================] - 3s 3ms/step - loss: 0.2075 - val_loss: 0.1897\n"
     ]
    },
    {
     "name": "stderr",
     "output_type": "stream",
     "text": [
      "2024-12-04 21:48:07,966 - INFO - Epoch 126: {'loss': 0.20754486322402954, 'val_loss': 0.18967106938362122, 'lr': 5e-05}\n"
     ]
    },
    {
     "name": "stdout",
     "output_type": "stream",
     "text": [
      "Epoch 127/1000\n",
      "1131/1131 [==============================] - 3s 3ms/step - loss: 0.2097 - val_loss: 0.1916\n"
     ]
    },
    {
     "name": "stderr",
     "output_type": "stream",
     "text": [
      "2024-12-04 21:48:10,980 - INFO - Epoch 127: {'loss': 0.20966516435146332, 'val_loss': 0.19156837463378906, 'lr': 5e-05}\n"
     ]
    },
    {
     "name": "stdout",
     "output_type": "stream",
     "text": [
      "Epoch 128/1000\n",
      "1131/1131 [==============================] - 3s 3ms/step - loss: 0.2071 - val_loss: 0.1974\n"
     ]
    },
    {
     "name": "stderr",
     "output_type": "stream",
     "text": [
      "2024-12-04 21:48:14,008 - INFO - Epoch 128: {'loss': 0.20709362626075745, 'val_loss': 0.19741737842559814, 'lr': 5e-05}\n"
     ]
    },
    {
     "name": "stdout",
     "output_type": "stream",
     "text": [
      "Epoch 129/1000\n",
      "1131/1131 [==============================] - 3s 3ms/step - loss: 0.2078 - val_loss: 0.1893\n"
     ]
    },
    {
     "name": "stderr",
     "output_type": "stream",
     "text": [
      "2024-12-04 21:48:16,967 - INFO - Epoch 129: {'loss': 0.2078137993812561, 'val_loss': 0.18932965397834778, 'lr': 5e-05}\n"
     ]
    },
    {
     "name": "stdout",
     "output_type": "stream",
     "text": [
      "Epoch 130/1000\n",
      "1131/1131 [==============================] - 3s 3ms/step - loss: 0.2102 - val_loss: 0.1892\n"
     ]
    },
    {
     "name": "stderr",
     "output_type": "stream",
     "text": [
      "2024-12-04 21:48:19,984 - INFO - Epoch 130: {'loss': 0.21019193530082703, 'val_loss': 0.18923607468605042, 'lr': 5e-05}\n"
     ]
    },
    {
     "name": "stdout",
     "output_type": "stream",
     "text": [
      "Epoch 131/1000\n",
      "1131/1131 [==============================] - 3s 3ms/step - loss: 0.2134 - val_loss: 0.2022\n"
     ]
    },
    {
     "name": "stderr",
     "output_type": "stream",
     "text": [
      "2024-12-04 21:48:22,997 - INFO - Epoch 131: {'loss': 0.21336309611797333, 'val_loss': 0.2022344172000885, 'lr': 5e-05}\n"
     ]
    },
    {
     "name": "stdout",
     "output_type": "stream",
     "text": [
      "Epoch 132/1000\n",
      "1131/1131 [==============================] - 3s 3ms/step - loss: 0.2078 - val_loss: 0.1997\n"
     ]
    },
    {
     "name": "stderr",
     "output_type": "stream",
     "text": [
      "2024-12-04 21:48:25,993 - INFO - Epoch 132: {'loss': 0.207750603556633, 'val_loss': 0.1996864676475525, 'lr': 5e-05}\n"
     ]
    },
    {
     "name": "stdout",
     "output_type": "stream",
     "text": [
      "Epoch 133/1000\n",
      "1131/1131 [==============================] - 3s 3ms/step - loss: 0.2086 - val_loss: 0.1914\n"
     ]
    },
    {
     "name": "stderr",
     "output_type": "stream",
     "text": [
      "2024-12-04 21:48:29,018 - INFO - Epoch 133: {'loss': 0.20860576629638672, 'val_loss': 0.19143898785114288, 'lr': 5e-05}\n"
     ]
    },
    {
     "name": "stdout",
     "output_type": "stream",
     "text": [
      "Epoch 134/1000\n",
      "1131/1131 [==============================] - 3s 3ms/step - loss: 0.2070 - val_loss: 0.1920\n"
     ]
    },
    {
     "name": "stderr",
     "output_type": "stream",
     "text": [
      "2024-12-04 21:48:32,029 - INFO - Epoch 134: {'loss': 0.207044780254364, 'val_loss': 0.19195453822612762, 'lr': 5e-05}\n"
     ]
    },
    {
     "name": "stdout",
     "output_type": "stream",
     "text": [
      "Epoch 135/1000\n",
      "1131/1131 [==============================] - 3s 3ms/step - loss: 0.2120 - val_loss: 0.1960\n"
     ]
    },
    {
     "name": "stderr",
     "output_type": "stream",
     "text": [
      "2024-12-04 21:48:35,060 - INFO - Epoch 135: {'loss': 0.21198943257331848, 'val_loss': 0.19604580104351044, 'lr': 5e-05}\n"
     ]
    },
    {
     "name": "stdout",
     "output_type": "stream",
     "text": [
      "Epoch 136/1000\n",
      "1131/1131 [==============================] - 3s 3ms/step - loss: 0.2113 - val_loss: 0.1895\n"
     ]
    },
    {
     "name": "stderr",
     "output_type": "stream",
     "text": [
      "2024-12-04 21:48:38,069 - INFO - Epoch 136: {'loss': 0.21127226948738098, 'val_loss': 0.18951769173145294, 'lr': 5e-05}\n"
     ]
    },
    {
     "name": "stdout",
     "output_type": "stream",
     "text": [
      "Epoch 137/1000\n",
      "1131/1131 [==============================] - 3s 3ms/step - loss: 0.2073 - val_loss: 0.1868\n"
     ]
    },
    {
     "name": "stderr",
     "output_type": "stream",
     "text": [
      "2024-12-04 21:48:41,126 - INFO - Epoch 137: {'loss': 0.20727413892745972, 'val_loss': 0.1867755502462387, 'lr': 5e-05}\n"
     ]
    },
    {
     "name": "stdout",
     "output_type": "stream",
     "text": [
      "Epoch 138/1000\n",
      "1131/1131 [==============================] - 3s 3ms/step - loss: 0.2086 - val_loss: 0.1878\n"
     ]
    },
    {
     "name": "stderr",
     "output_type": "stream",
     "text": [
      "2024-12-04 21:48:44,162 - INFO - Epoch 138: {'loss': 0.20856191217899323, 'val_loss': 0.18784597516059875, 'lr': 5e-05}\n"
     ]
    },
    {
     "name": "stdout",
     "output_type": "stream",
     "text": [
      "Epoch 139/1000\n",
      "1131/1131 [==============================] - 3s 3ms/step - loss: 0.2084 - val_loss: 0.1899\n"
     ]
    },
    {
     "name": "stderr",
     "output_type": "stream",
     "text": [
      "2024-12-04 21:48:47,194 - INFO - Epoch 139: {'loss': 0.2083873301744461, 'val_loss': 0.18986541032791138, 'lr': 5e-05}\n"
     ]
    },
    {
     "name": "stdout",
     "output_type": "stream",
     "text": [
      "Epoch 140/1000\n",
      "1131/1131 [==============================] - 3s 3ms/step - loss: 0.2063 - val_loss: 0.1859\n"
     ]
    },
    {
     "name": "stderr",
     "output_type": "stream",
     "text": [
      "2024-12-04 21:48:50,249 - INFO - Epoch 140: {'loss': 0.20628555119037628, 'val_loss': 0.18588125705718994, 'lr': 5e-05}\n"
     ]
    },
    {
     "name": "stdout",
     "output_type": "stream",
     "text": [
      "Epoch 141/1000\n",
      "1131/1131 [==============================] - 3s 3ms/step - loss: 0.2025 - val_loss: 0.1867\n"
     ]
    },
    {
     "name": "stderr",
     "output_type": "stream",
     "text": [
      "2024-12-04 21:48:53,293 - INFO - Epoch 141: {'loss': 0.20248588919639587, 'val_loss': 0.186676487326622, 'lr': 5e-05}\n"
     ]
    },
    {
     "name": "stdout",
     "output_type": "stream",
     "text": [
      "Epoch 142/1000\n",
      "1131/1131 [==============================] - 3s 3ms/step - loss: 0.2064 - val_loss: 0.2181\n"
     ]
    },
    {
     "name": "stderr",
     "output_type": "stream",
     "text": [
      "2024-12-04 21:48:56,335 - INFO - Epoch 142: {'loss': 0.2064385861158371, 'val_loss': 0.21813403069972992, 'lr': 5e-05}\n"
     ]
    },
    {
     "name": "stdout",
     "output_type": "stream",
     "text": [
      "Epoch 143/1000\n",
      "1131/1131 [==============================] - 3s 3ms/step - loss: 0.2148 - val_loss: 0.1896\n"
     ]
    },
    {
     "name": "stderr",
     "output_type": "stream",
     "text": [
      "2024-12-04 21:48:59,352 - INFO - Epoch 143: {'loss': 0.21477843821048737, 'val_loss': 0.18957148492336273, 'lr': 5e-05}\n"
     ]
    },
    {
     "name": "stdout",
     "output_type": "stream",
     "text": [
      "Epoch 144/1000\n",
      "1131/1131 [==============================] - 3s 3ms/step - loss: 0.2060 - val_loss: 0.1854\n"
     ]
    },
    {
     "name": "stderr",
     "output_type": "stream",
     "text": [
      "2024-12-04 21:49:02,422 - INFO - Epoch 144: {'loss': 0.20599713921546936, 'val_loss': 0.18536153435707092, 'lr': 5e-05}\n"
     ]
    },
    {
     "name": "stdout",
     "output_type": "stream",
     "text": [
      "Epoch 145/1000\n",
      "1131/1131 [==============================] - 3s 3ms/step - loss: 0.2036 - val_loss: 0.1884\n"
     ]
    },
    {
     "name": "stderr",
     "output_type": "stream",
     "text": [
      "2024-12-04 21:49:05,495 - INFO - Epoch 145: {'loss': 0.20362789928913116, 'val_loss': 0.18836891651153564, 'lr': 5e-05}\n"
     ]
    },
    {
     "name": "stdout",
     "output_type": "stream",
     "text": [
      "Epoch 146/1000\n",
      "1131/1131 [==============================] - 3s 3ms/step - loss: 0.2043 - val_loss: 0.1868\n"
     ]
    },
    {
     "name": "stderr",
     "output_type": "stream",
     "text": [
      "2024-12-04 21:49:08,539 - INFO - Epoch 146: {'loss': 0.20426222681999207, 'val_loss': 0.18680667877197266, 'lr': 5e-05}\n"
     ]
    },
    {
     "name": "stdout",
     "output_type": "stream",
     "text": [
      "Epoch 147/1000\n",
      "1131/1131 [==============================] - 3s 3ms/step - loss: 0.2053 - val_loss: 0.1867\n"
     ]
    },
    {
     "name": "stderr",
     "output_type": "stream",
     "text": [
      "2024-12-04 21:49:11,594 - INFO - Epoch 147: {'loss': 0.20529469847679138, 'val_loss': 0.1866721212863922, 'lr': 5e-05}\n"
     ]
    },
    {
     "name": "stdout",
     "output_type": "stream",
     "text": [
      "Epoch 148/1000\n",
      "1131/1131 [==============================] - 3s 3ms/step - loss: 0.2047 - val_loss: 0.1866\n"
     ]
    },
    {
     "name": "stderr",
     "output_type": "stream",
     "text": [
      "2024-12-04 21:49:14,615 - INFO - Epoch 148: {'loss': 0.2046951800584793, 'val_loss': 0.18656882643699646, 'lr': 5e-05}\n"
     ]
    },
    {
     "name": "stdout",
     "output_type": "stream",
     "text": [
      "Epoch 149/1000\n",
      "1131/1131 [==============================] - 3s 3ms/step - loss: 0.2063 - val_loss: 0.1911\n"
     ]
    },
    {
     "name": "stderr",
     "output_type": "stream",
     "text": [
      "2024-12-04 21:49:17,622 - INFO - Epoch 149: {'loss': 0.20634646713733673, 'val_loss': 0.19110703468322754, 'lr': 5e-05}\n"
     ]
    },
    {
     "name": "stdout",
     "output_type": "stream",
     "text": [
      "Epoch 150/1000\n",
      "1131/1131 [==============================] - 3s 3ms/step - loss: 0.2054 - val_loss: 0.1865\n"
     ]
    },
    {
     "name": "stderr",
     "output_type": "stream",
     "text": [
      "2024-12-04 21:49:20,691 - INFO - Epoch 150: {'loss': 0.20540288090705872, 'val_loss': 0.1864902675151825, 'lr': 5e-05}\n"
     ]
    },
    {
     "name": "stdout",
     "output_type": "stream",
     "text": [
      "Epoch 151/1000\n",
      "1131/1131 [==============================] - 3s 3ms/step - loss: 0.2081 - val_loss: 0.1887\n"
     ]
    },
    {
     "name": "stderr",
     "output_type": "stream",
     "text": [
      "2024-12-04 21:49:23,714 - INFO - Epoch 151: {'loss': 0.20807377994060516, 'val_loss': 0.18871977925300598, 'lr': 5e-05}\n"
     ]
    },
    {
     "name": "stdout",
     "output_type": "stream",
     "text": [
      "Epoch 152/1000\n",
      "1131/1131 [==============================] - 3s 3ms/step - loss: 0.2090 - val_loss: 0.1876\n"
     ]
    },
    {
     "name": "stderr",
     "output_type": "stream",
     "text": [
      "2024-12-04 21:49:26,730 - INFO - Epoch 152: {'loss': 0.20895206928253174, 'val_loss': 0.18763180077075958, 'lr': 5e-05}\n"
     ]
    },
    {
     "name": "stdout",
     "output_type": "stream",
     "text": [
      "Epoch 153/1000\n",
      "1131/1131 [==============================] - 3s 3ms/step - loss: 0.2034 - val_loss: 0.1846\n"
     ]
    },
    {
     "name": "stderr",
     "output_type": "stream",
     "text": [
      "2024-12-04 21:49:29,761 - INFO - Epoch 153: {'loss': 0.2034376561641693, 'val_loss': 0.1846318393945694, 'lr': 5e-05}\n"
     ]
    },
    {
     "name": "stdout",
     "output_type": "stream",
     "text": [
      "Epoch 154/1000\n",
      "1131/1131 [==============================] - 3s 3ms/step - loss: 0.2023 - val_loss: 0.1854\n"
     ]
    },
    {
     "name": "stderr",
     "output_type": "stream",
     "text": [
      "2024-12-04 21:49:32,858 - INFO - Epoch 154: {'loss': 0.2023358941078186, 'val_loss': 0.18535342812538147, 'lr': 5e-05}\n"
     ]
    },
    {
     "name": "stdout",
     "output_type": "stream",
     "text": [
      "Epoch 155/1000\n",
      "1131/1131 [==============================] - 3s 3ms/step - loss: 0.2087 - val_loss: 0.1878\n"
     ]
    },
    {
     "name": "stderr",
     "output_type": "stream",
     "text": [
      "2024-12-04 21:49:35,898 - INFO - Epoch 155: {'loss': 0.20869167149066925, 'val_loss': 0.1877976655960083, 'lr': 5e-05}\n"
     ]
    },
    {
     "name": "stdout",
     "output_type": "stream",
     "text": [
      "Epoch 156/1000\n",
      "1131/1131 [==============================] - 3s 3ms/step - loss: 0.2189 - val_loss: 0.1955\n"
     ]
    },
    {
     "name": "stderr",
     "output_type": "stream",
     "text": [
      "2024-12-04 21:49:38,975 - INFO - Epoch 156: {'loss': 0.21886615455150604, 'val_loss': 0.19552478194236755, 'lr': 5e-05}\n"
     ]
    },
    {
     "name": "stdout",
     "output_type": "stream",
     "text": [
      "Epoch 157/1000\n",
      "1131/1131 [==============================] - 3s 3ms/step - loss: 0.2263 - val_loss: 0.2034\n"
     ]
    },
    {
     "name": "stderr",
     "output_type": "stream",
     "text": [
      "2024-12-04 21:49:42,024 - INFO - Epoch 157: {'loss': 0.2262619286775589, 'val_loss': 0.2034345120191574, 'lr': 5e-05}\n"
     ]
    },
    {
     "name": "stdout",
     "output_type": "stream",
     "text": [
      "Epoch 158/1000\n",
      "1131/1131 [==============================] - 3s 3ms/step - loss: 0.2203 - val_loss: 0.1949\n"
     ]
    },
    {
     "name": "stderr",
     "output_type": "stream",
     "text": [
      "2024-12-04 21:49:45,040 - INFO - Epoch 158: {'loss': 0.22029739618301392, 'val_loss': 0.19485807418823242, 'lr': 5e-05}\n"
     ]
    },
    {
     "name": "stdout",
     "output_type": "stream",
     "text": [
      "Epoch 159/1000\n",
      "1131/1131 [==============================] - 3s 3ms/step - loss: 0.2173 - val_loss: 0.2011\n"
     ]
    },
    {
     "name": "stderr",
     "output_type": "stream",
     "text": [
      "2024-12-04 21:49:48,059 - INFO - Epoch 159: {'loss': 0.21730586886405945, 'val_loss': 0.20105037093162537, 'lr': 5e-05}\n"
     ]
    },
    {
     "name": "stdout",
     "output_type": "stream",
     "text": [
      "Epoch 160/1000\n",
      "1131/1131 [==============================] - 3s 3ms/step - loss: 0.2168 - val_loss: 0.1903\n"
     ]
    },
    {
     "name": "stderr",
     "output_type": "stream",
     "text": [
      "2024-12-04 21:49:51,128 - INFO - Epoch 160: {'loss': 0.21680518984794617, 'val_loss': 0.19025056064128876, 'lr': 5e-05}\n"
     ]
    },
    {
     "name": "stdout",
     "output_type": "stream",
     "text": [
      "Epoch 161/1000\n",
      "1131/1131 [==============================] - 3s 3ms/step - loss: 0.2039 - val_loss: 0.1863\n"
     ]
    },
    {
     "name": "stderr",
     "output_type": "stream",
     "text": [
      "2024-12-04 21:49:54,182 - INFO - Epoch 161: {'loss': 0.2039346843957901, 'val_loss': 0.18630066514015198, 'lr': 5e-05}\n"
     ]
    },
    {
     "name": "stdout",
     "output_type": "stream",
     "text": [
      "Epoch 162/1000\n",
      "1131/1131 [==============================] - 3s 3ms/step - loss: 0.2047 - val_loss: 0.1874\n"
     ]
    },
    {
     "name": "stderr",
     "output_type": "stream",
     "text": [
      "2024-12-04 21:49:57,198 - INFO - Epoch 162: {'loss': 0.20470088720321655, 'val_loss': 0.18743817508220673, 'lr': 5e-05}\n"
     ]
    },
    {
     "name": "stdout",
     "output_type": "stream",
     "text": [
      "Epoch 163/1000\n",
      "1131/1131 [==============================] - 3s 3ms/step - loss: 0.2055 - val_loss: 0.1875\n"
     ]
    },
    {
     "name": "stderr",
     "output_type": "stream",
     "text": [
      "2024-12-04 21:50:00,210 - INFO - Epoch 163: {'loss': 0.20553280413150787, 'val_loss': 0.1875029057264328, 'lr': 5e-05}\n"
     ]
    },
    {
     "name": "stdout",
     "output_type": "stream",
     "text": [
      "Epoch 164/1000\n",
      "1131/1131 [==============================] - 3s 3ms/step - loss: 0.2046 - val_loss: 0.1844\n"
     ]
    },
    {
     "name": "stderr",
     "output_type": "stream",
     "text": [
      "2024-12-04 21:50:03,229 - INFO - Epoch 164: {'loss': 0.20455558598041534, 'val_loss': 0.18444140255451202, 'lr': 5e-05}\n"
     ]
    },
    {
     "name": "stdout",
     "output_type": "stream",
     "text": [
      "Epoch 165/1000\n",
      "1131/1131 [==============================] - 3s 3ms/step - loss: 0.2055 - val_loss: 0.1830\n"
     ]
    },
    {
     "name": "stderr",
     "output_type": "stream",
     "text": [
      "2024-12-04 21:50:06,254 - INFO - Epoch 165: {'loss': 0.20553624629974365, 'val_loss': 0.18296830356121063, 'lr': 5e-05}\n"
     ]
    },
    {
     "name": "stdout",
     "output_type": "stream",
     "text": [
      "Epoch 166/1000\n",
      "1131/1131 [==============================] - 3s 3ms/step - loss: 0.2025 - val_loss: 0.1849\n"
     ]
    },
    {
     "name": "stderr",
     "output_type": "stream",
     "text": [
      "2024-12-04 21:50:09,334 - INFO - Epoch 166: {'loss': 0.20251162350177765, 'val_loss': 0.18488386273384094, 'lr': 5e-05}\n"
     ]
    },
    {
     "name": "stdout",
     "output_type": "stream",
     "text": [
      "Epoch 167/1000\n",
      "1131/1131 [==============================] - 3s 3ms/step - loss: 0.2018 - val_loss: 0.1823\n"
     ]
    },
    {
     "name": "stderr",
     "output_type": "stream",
     "text": [
      "2024-12-04 21:50:12,485 - INFO - Epoch 167: {'loss': 0.20183724164962769, 'val_loss': 0.18228156864643097, 'lr': 5e-05}\n"
     ]
    },
    {
     "name": "stdout",
     "output_type": "stream",
     "text": [
      "Epoch 168/1000\n",
      "1131/1131 [==============================] - 3s 3ms/step - loss: 0.2096 - val_loss: 0.1856\n"
     ]
    },
    {
     "name": "stderr",
     "output_type": "stream",
     "text": [
      "2024-12-04 21:50:15,620 - INFO - Epoch 168: {'loss': 0.20964694023132324, 'val_loss': 0.18559429049491882, 'lr': 5e-05}\n"
     ]
    },
    {
     "name": "stdout",
     "output_type": "stream",
     "text": [
      "Epoch 169/1000\n",
      "1131/1131 [==============================] - 3s 3ms/step - loss: 0.2101 - val_loss: 0.1919\n"
     ]
    },
    {
     "name": "stderr",
     "output_type": "stream",
     "text": [
      "2024-12-04 21:50:18,664 - INFO - Epoch 169: {'loss': 0.2101338505744934, 'val_loss': 0.191850483417511, 'lr': 5e-05}\n"
     ]
    },
    {
     "name": "stdout",
     "output_type": "stream",
     "text": [
      "Epoch 170/1000\n",
      "1131/1131 [==============================] - 3s 3ms/step - loss: 0.2035 - val_loss: 0.1849\n"
     ]
    },
    {
     "name": "stderr",
     "output_type": "stream",
     "text": [
      "2024-12-04 21:50:21,785 - INFO - Epoch 170: {'loss': 0.20351117849349976, 'val_loss': 0.1848950982093811, 'lr': 5e-05}\n"
     ]
    },
    {
     "name": "stdout",
     "output_type": "stream",
     "text": [
      "Epoch 171/1000\n",
      "1131/1131 [==============================] - 3s 3ms/step - loss: 0.2032 - val_loss: 0.1825\n"
     ]
    },
    {
     "name": "stderr",
     "output_type": "stream",
     "text": [
      "2024-12-04 21:50:24,886 - INFO - Epoch 171: {'loss': 0.20324571430683136, 'val_loss': 0.18254514038562775, 'lr': 5e-05}\n"
     ]
    },
    {
     "name": "stdout",
     "output_type": "stream",
     "text": [
      "Epoch 172/1000\n",
      "1131/1131 [==============================] - 3s 3ms/step - loss: 0.2061 - val_loss: 0.1882\n"
     ]
    },
    {
     "name": "stderr",
     "output_type": "stream",
     "text": [
      "2024-12-04 21:50:27,878 - INFO - Epoch 172: {'loss': 0.20609578490257263, 'val_loss': 0.18822450935840607, 'lr': 5e-05}\n"
     ]
    },
    {
     "name": "stdout",
     "output_type": "stream",
     "text": [
      "Epoch 173/1000\n",
      "1131/1131 [==============================] - 3s 3ms/step - loss: 0.2036 - val_loss: 0.1860\n"
     ]
    },
    {
     "name": "stderr",
     "output_type": "stream",
     "text": [
      "2024-12-04 21:50:30,864 - INFO - Epoch 173: {'loss': 0.20362155139446259, 'val_loss': 0.18600280582904816, 'lr': 5e-05}\n"
     ]
    },
    {
     "name": "stdout",
     "output_type": "stream",
     "text": [
      "Epoch 174/1000\n",
      "1131/1131 [==============================] - 3s 3ms/step - loss: 0.2029 - val_loss: 0.1863\n"
     ]
    },
    {
     "name": "stderr",
     "output_type": "stream",
     "text": [
      "2024-12-04 21:50:33,914 - INFO - Epoch 174: {'loss': 0.20293724536895752, 'val_loss': 0.18634742498397827, 'lr': 5e-05}\n"
     ]
    },
    {
     "name": "stdout",
     "output_type": "stream",
     "text": [
      "Epoch 175/1000\n",
      "1131/1131 [==============================] - 3s 3ms/step - loss: 0.2042 - val_loss: 0.1833\n"
     ]
    },
    {
     "name": "stderr",
     "output_type": "stream",
     "text": [
      "2024-12-04 21:50:36,992 - INFO - Epoch 175: {'loss': 0.20419593155384064, 'val_loss': 0.1833280473947525, 'lr': 5e-05}\n"
     ]
    },
    {
     "name": "stdout",
     "output_type": "stream",
     "text": [
      "Epoch 176/1000\n",
      "1131/1131 [==============================] - 3s 3ms/step - loss: 0.2022 - val_loss: 0.1848\n"
     ]
    },
    {
     "name": "stderr",
     "output_type": "stream",
     "text": [
      "2024-12-04 21:50:40,065 - INFO - Epoch 176: {'loss': 0.20222622156143188, 'val_loss': 0.1847645789384842, 'lr': 5e-05}\n"
     ]
    },
    {
     "name": "stdout",
     "output_type": "stream",
     "text": [
      "Epoch 177/1000\n",
      "1131/1131 [==============================] - 3s 3ms/step - loss: 0.2055 - val_loss: 0.1916\n"
     ]
    },
    {
     "name": "stderr",
     "output_type": "stream",
     "text": [
      "2024-12-04 21:50:43,143 - INFO - Epoch 177: {'loss': 0.20548002421855927, 'val_loss': 0.19164694845676422, 'lr': 5e-05}\n"
     ]
    },
    {
     "name": "stdout",
     "output_type": "stream",
     "text": [
      "Epoch 178/1000\n",
      "1131/1131 [==============================] - 3s 3ms/step - loss: 0.2021 - val_loss: 0.1828\n"
     ]
    },
    {
     "name": "stderr",
     "output_type": "stream",
     "text": [
      "2024-12-04 21:50:46,228 - INFO - Epoch 178: {'loss': 0.20209069550037384, 'val_loss': 0.18280518054962158, 'lr': 5e-05}\n"
     ]
    },
    {
     "name": "stdout",
     "output_type": "stream",
     "text": [
      "Epoch 179/1000\n",
      "1131/1131 [==============================] - 3s 3ms/step - loss: 0.2032 - val_loss: 0.1834\n"
     ]
    },
    {
     "name": "stderr",
     "output_type": "stream",
     "text": [
      "2024-12-04 21:50:49,270 - INFO - Epoch 179: {'loss': 0.20324742794036865, 'val_loss': 0.18342344462871552, 'lr': 5e-05}\n"
     ]
    },
    {
     "name": "stdout",
     "output_type": "stream",
     "text": [
      "Epoch 180/1000\n",
      "1131/1131 [==============================] - 3s 3ms/step - loss: 0.2005 - val_loss: 0.1899\n"
     ]
    },
    {
     "name": "stderr",
     "output_type": "stream",
     "text": [
      "2024-12-04 21:50:52,278 - INFO - Epoch 180: {'loss': 0.20052511990070343, 'val_loss': 0.18986837565898895, 'lr': 5e-05}\n"
     ]
    },
    {
     "name": "stdout",
     "output_type": "stream",
     "text": [
      "Epoch 181/1000\n",
      "1131/1131 [==============================] - 3s 3ms/step - loss: 0.2016 - val_loss: 0.1819\n"
     ]
    },
    {
     "name": "stderr",
     "output_type": "stream",
     "text": [
      "2024-12-04 21:50:55,338 - INFO - Epoch 181: {'loss': 0.20161119103431702, 'val_loss': 0.18190522491931915, 'lr': 5e-05}\n"
     ]
    },
    {
     "name": "stdout",
     "output_type": "stream",
     "text": [
      "Epoch 182/1000\n",
      "1131/1131 [==============================] - 3s 3ms/step - loss: 0.2061 - val_loss: 0.1858\n"
     ]
    },
    {
     "name": "stderr",
     "output_type": "stream",
     "text": [
      "2024-12-04 21:50:58,452 - INFO - Epoch 182: {'loss': 0.20613065361976624, 'val_loss': 0.18584801256656647, 'lr': 5e-05}\n"
     ]
    },
    {
     "name": "stdout",
     "output_type": "stream",
     "text": [
      "Epoch 183/1000\n",
      "1131/1131 [==============================] - 3s 3ms/step - loss: 0.2048 - val_loss: 0.1844\n"
     ]
    },
    {
     "name": "stderr",
     "output_type": "stream",
     "text": [
      "2024-12-04 21:51:01,569 - INFO - Epoch 183: {'loss': 0.2048356682062149, 'val_loss': 0.1844053864479065, 'lr': 5e-05}\n"
     ]
    },
    {
     "name": "stdout",
     "output_type": "stream",
     "text": [
      "Epoch 184/1000\n",
      "1131/1131 [==============================] - 3s 3ms/step - loss: 0.2036 - val_loss: 0.1837\n"
     ]
    },
    {
     "name": "stderr",
     "output_type": "stream",
     "text": [
      "2024-12-04 21:51:04,700 - INFO - Epoch 184: {'loss': 0.20362015068531036, 'val_loss': 0.18366269767284393, 'lr': 5e-05}\n"
     ]
    },
    {
     "name": "stdout",
     "output_type": "stream",
     "text": [
      "Epoch 185/1000\n",
      "1131/1131 [==============================] - 3s 3ms/step - loss: 0.2010 - val_loss: 0.1850\n"
     ]
    },
    {
     "name": "stderr",
     "output_type": "stream",
     "text": [
      "2024-12-04 21:51:07,801 - INFO - Epoch 185: {'loss': 0.20101037621498108, 'val_loss': 0.18497520685195923, 'lr': 5e-05}\n"
     ]
    },
    {
     "name": "stdout",
     "output_type": "stream",
     "text": [
      "Epoch 186/1000\n",
      "1131/1131 [==============================] - 3s 3ms/step - loss: 0.2062 - val_loss: 0.1885\n"
     ]
    },
    {
     "name": "stderr",
     "output_type": "stream",
     "text": [
      "2024-12-04 21:51:10,857 - INFO - Epoch 186: {'loss': 0.20617707073688507, 'val_loss': 0.18849462270736694, 'lr': 5e-05}\n"
     ]
    },
    {
     "name": "stdout",
     "output_type": "stream",
     "text": [
      "Epoch 187/1000\n",
      "1131/1131 [==============================] - 3s 3ms/step - loss: 0.2057 - val_loss: 0.1892\n"
     ]
    },
    {
     "name": "stderr",
     "output_type": "stream",
     "text": [
      "2024-12-04 21:51:13,922 - INFO - Epoch 187: {'loss': 0.2057414948940277, 'val_loss': 0.18916553258895874, 'lr': 5e-05}\n"
     ]
    },
    {
     "name": "stdout",
     "output_type": "stream",
     "text": [
      "Epoch 188/1000\n",
      "1131/1131 [==============================] - 3s 3ms/step - loss: 0.2017 - val_loss: 0.1838\n"
     ]
    },
    {
     "name": "stderr",
     "output_type": "stream",
     "text": [
      "2024-12-04 21:51:17,047 - INFO - Epoch 188: {'loss': 0.20172657072544098, 'val_loss': 0.18378739058971405, 'lr': 5e-05}\n"
     ]
    },
    {
     "name": "stdout",
     "output_type": "stream",
     "text": [
      "Epoch 189/1000\n",
      "1131/1131 [==============================] - 3s 3ms/step - loss: 0.2192 - val_loss: 0.2060\n"
     ]
    },
    {
     "name": "stderr",
     "output_type": "stream",
     "text": [
      "2024-12-04 21:51:20,159 - INFO - Epoch 189: {'loss': 0.21923784911632538, 'val_loss': 0.2059856504201889, 'lr': 5e-05}\n"
     ]
    },
    {
     "name": "stdout",
     "output_type": "stream",
     "text": [
      "Epoch 190/1000\n",
      "1131/1131 [==============================] - 3s 3ms/step - loss: 0.2168 - val_loss: 0.1948\n"
     ]
    },
    {
     "name": "stderr",
     "output_type": "stream",
     "text": [
      "2024-12-04 21:51:23,078 - INFO - Epoch 190: {'loss': 0.21681757271289825, 'val_loss': 0.19479966163635254, 'lr': 5e-05}\n"
     ]
    },
    {
     "name": "stdout",
     "output_type": "stream",
     "text": [
      "Epoch 191/1000\n",
      "1131/1131 [==============================] - 3s 3ms/step - loss: 0.2118 - val_loss: 0.1917\n"
     ]
    },
    {
     "name": "stderr",
     "output_type": "stream",
     "text": [
      "2024-12-04 21:51:26,045 - INFO - Epoch 191: {'loss': 0.21179792284965515, 'val_loss': 0.19166424870491028, 'lr': 5e-05}\n"
     ]
    },
    {
     "name": "stdout",
     "output_type": "stream",
     "text": [
      "Epoch 192/1000\n",
      "1131/1131 [==============================] - 3s 3ms/step - loss: 0.2101 - val_loss: 0.1923\n"
     ]
    },
    {
     "name": "stderr",
     "output_type": "stream",
     "text": [
      "2024-12-04 21:51:29,063 - INFO - Epoch 192: {'loss': 0.21008892357349396, 'val_loss': 0.19233547151088715, 'lr': 5e-05}\n"
     ]
    },
    {
     "name": "stdout",
     "output_type": "stream",
     "text": [
      "Epoch 193/1000\n",
      "1131/1131 [==============================] - 3s 3ms/step - loss: 0.2089 - val_loss: 0.1905\n"
     ]
    },
    {
     "name": "stderr",
     "output_type": "stream",
     "text": [
      "2024-12-04 21:51:32,072 - INFO - Epoch 193: {'loss': 0.20893494784832, 'val_loss': 0.19053597748279572, 'lr': 5e-05}\n"
     ]
    },
    {
     "name": "stdout",
     "output_type": "stream",
     "text": [
      "Epoch 194/1000\n",
      "1131/1131 [==============================] - 3s 3ms/step - loss: 0.2063 - val_loss: 0.1911\n"
     ]
    },
    {
     "name": "stderr",
     "output_type": "stream",
     "text": [
      "2024-12-04 21:51:35,141 - INFO - Epoch 194: {'loss': 0.2063487470149994, 'val_loss': 0.1910787671804428, 'lr': 5e-05}\n"
     ]
    },
    {
     "name": "stdout",
     "output_type": "stream",
     "text": [
      "Epoch 195/1000\n",
      "1131/1131 [==============================] - 3s 3ms/step - loss: 0.2072 - val_loss: 0.1884\n"
     ]
    },
    {
     "name": "stderr",
     "output_type": "stream",
     "text": [
      "2024-12-04 21:51:38,177 - INFO - Epoch 195: {'loss': 0.2071560025215149, 'val_loss': 0.18844613432884216, 'lr': 5e-05}\n"
     ]
    },
    {
     "name": "stdout",
     "output_type": "stream",
     "text": [
      "Epoch 196/1000\n",
      "1131/1131 [==============================] - 3s 3ms/step - loss: 0.2061 - val_loss: 0.1891\n"
     ]
    },
    {
     "name": "stderr",
     "output_type": "stream",
     "text": [
      "2024-12-04 21:51:41,129 - INFO - Epoch 196: {'loss': 0.20610980689525604, 'val_loss': 0.18906649947166443, 'lr': 5e-05}\n"
     ]
    },
    {
     "name": "stdout",
     "output_type": "stream",
     "text": [
      "Epoch 197/1000\n",
      "1131/1131 [==============================] - 3s 3ms/step - loss: 0.2064 - val_loss: 0.1882\n"
     ]
    },
    {
     "name": "stderr",
     "output_type": "stream",
     "text": [
      "2024-12-04 21:51:44,227 - INFO - Epoch 197: {'loss': 0.2063831388950348, 'val_loss': 0.18816527724266052, 'lr': 5e-05}\n"
     ]
    },
    {
     "name": "stdout",
     "output_type": "stream",
     "text": [
      "Epoch 198/1000\n",
      "1131/1131 [==============================] - 3s 3ms/step - loss: 0.2054 - val_loss: 0.1884\n"
     ]
    },
    {
     "name": "stderr",
     "output_type": "stream",
     "text": [
      "2024-12-04 21:51:47,316 - INFO - Epoch 198: {'loss': 0.20536671578884125, 'val_loss': 0.18836818635463715, 'lr': 5e-05}\n"
     ]
    },
    {
     "name": "stdout",
     "output_type": "stream",
     "text": [
      "Epoch 199/1000\n",
      "1131/1131 [==============================] - 3s 3ms/step - loss: 0.2039 - val_loss: 0.1883\n"
     ]
    },
    {
     "name": "stderr",
     "output_type": "stream",
     "text": [
      "2024-12-04 21:51:50,420 - INFO - Epoch 199: {'loss': 0.20391781628131866, 'val_loss': 0.18833056092262268, 'lr': 5e-05}\n"
     ]
    },
    {
     "name": "stdout",
     "output_type": "stream",
     "text": [
      "Epoch 200/1000\n",
      "1131/1131 [==============================] - 3s 3ms/step - loss: 0.2041 - val_loss: 0.1917\n"
     ]
    },
    {
     "name": "stderr",
     "output_type": "stream",
     "text": [
      "2024-12-04 21:51:53,481 - INFO - Epoch 200: {'loss': 0.2041080743074417, 'val_loss': 0.19168423116207123, 'lr': 5e-05}\n"
     ]
    },
    {
     "name": "stdout",
     "output_type": "stream",
     "text": [
      "Epoch 201/1000\n",
      "1131/1131 [==============================] - 3s 3ms/step - loss: 0.2046 - val_loss: 0.1871\n"
     ]
    },
    {
     "name": "stderr",
     "output_type": "stream",
     "text": [
      "2024-12-04 21:51:56,547 - INFO - Epoch 201: {'loss': 0.2046288549900055, 'val_loss': 0.18711797893047333, 'lr': 5e-05}\n"
     ]
    },
    {
     "name": "stdout",
     "output_type": "stream",
     "text": [
      "\n",
      "Epoch 00201: ReduceLROnPlateau reducing learning rate to 2.499999936844688e-05.\n",
      "Epoch 202/1000\n",
      "1131/1131 [==============================] - 3s 3ms/step - loss: 0.2011 - val_loss: 0.1868\n"
     ]
    },
    {
     "name": "stderr",
     "output_type": "stream",
     "text": [
      "2024-12-04 21:51:59,618 - INFO - Epoch 202: {'loss': 0.20109209418296814, 'val_loss': 0.18678413331508636, 'lr': 2.5e-05}\n"
     ]
    },
    {
     "name": "stdout",
     "output_type": "stream",
     "text": [
      "Epoch 203/1000\n",
      "1131/1131 [==============================] - 3s 3ms/step - loss: 0.2046 - val_loss: 0.1912\n"
     ]
    },
    {
     "name": "stderr",
     "output_type": "stream",
     "text": [
      "2024-12-04 21:52:02,700 - INFO - Epoch 203: {'loss': 0.20464973151683807, 'val_loss': 0.19118736684322357, 'lr': 2.5e-05}\n"
     ]
    },
    {
     "name": "stdout",
     "output_type": "stream",
     "text": [
      "Epoch 204/1000\n",
      "1131/1131 [==============================] - 3s 3ms/step - loss: 0.2029 - val_loss: 0.1861\n"
     ]
    },
    {
     "name": "stderr",
     "output_type": "stream",
     "text": [
      "2024-12-04 21:52:05,735 - INFO - Epoch 204: {'loss': 0.20294462144374847, 'val_loss': 0.1861162632703781, 'lr': 2.5e-05}\n"
     ]
    },
    {
     "name": "stdout",
     "output_type": "stream",
     "text": [
      "Epoch 205/1000\n",
      "1131/1131 [==============================] - 3s 3ms/step - loss: 0.2032 - val_loss: 0.1864\n"
     ]
    },
    {
     "name": "stderr",
     "output_type": "stream",
     "text": [
      "2024-12-04 21:52:08,813 - INFO - Epoch 205: {'loss': 0.20316827297210693, 'val_loss': 0.1863730102777481, 'lr': 2.5e-05}\n"
     ]
    },
    {
     "name": "stdout",
     "output_type": "stream",
     "text": [
      "Epoch 206/1000\n",
      "1131/1131 [==============================] - 3s 3ms/step - loss: 0.2010 - val_loss: 0.1869\n"
     ]
    },
    {
     "name": "stderr",
     "output_type": "stream",
     "text": [
      "2024-12-04 21:52:11,946 - INFO - Epoch 206: {'loss': 0.2010449320077896, 'val_loss': 0.18688064813613892, 'lr': 2.5e-05}\n"
     ]
    },
    {
     "name": "stdout",
     "output_type": "stream",
     "text": [
      "Epoch 207/1000\n",
      "1131/1131 [==============================] - 3s 3ms/step - loss: 0.2042 - val_loss: 0.1857\n"
     ]
    },
    {
     "name": "stderr",
     "output_type": "stream",
     "text": [
      "2024-12-04 21:52:15,069 - INFO - Epoch 207: {'loss': 0.204239621758461, 'val_loss': 0.18569663166999817, 'lr': 2.5e-05}\n"
     ]
    },
    {
     "name": "stdout",
     "output_type": "stream",
     "text": [
      "Epoch 208/1000\n",
      "1131/1131 [==============================] - 3s 3ms/step - loss: 0.2036 - val_loss: 0.1861\n"
     ]
    },
    {
     "name": "stderr",
     "output_type": "stream",
     "text": [
      "2024-12-04 21:52:18,077 - INFO - Epoch 208: {'loss': 0.20357677340507507, 'val_loss': 0.18607336282730103, 'lr': 2.5e-05}\n"
     ]
    },
    {
     "name": "stdout",
     "output_type": "stream",
     "text": [
      "Epoch 209/1000\n",
      "1131/1131 [==============================] - 3s 3ms/step - loss: 0.2024 - val_loss: 0.1872\n"
     ]
    },
    {
     "name": "stderr",
     "output_type": "stream",
     "text": [
      "2024-12-04 21:52:21,164 - INFO - Epoch 209: {'loss': 0.20244184136390686, 'val_loss': 0.1872471123933792, 'lr': 2.5e-05}\n"
     ]
    },
    {
     "name": "stdout",
     "output_type": "stream",
     "text": [
      "Epoch 210/1000\n",
      "1131/1131 [==============================] - 3s 3ms/step - loss: 0.2011 - val_loss: 0.1835\n"
     ]
    },
    {
     "name": "stderr",
     "output_type": "stream",
     "text": [
      "2024-12-04 21:52:24,231 - INFO - Epoch 210: {'loss': 0.2010640949010849, 'val_loss': 0.18349598348140717, 'lr': 2.5e-05}\n"
     ]
    },
    {
     "name": "stdout",
     "output_type": "stream",
     "text": [
      "Epoch 211/1000\n",
      "1131/1131 [==============================] - 3s 3ms/step - loss: 0.2003 - val_loss: 0.1825\n"
     ]
    },
    {
     "name": "stderr",
     "output_type": "stream",
     "text": [
      "2024-12-04 21:52:27,346 - INFO - Epoch 211: {'loss': 0.20028360188007355, 'val_loss': 0.18253032863140106, 'lr': 2.5e-05}\n"
     ]
    },
    {
     "name": "stdout",
     "output_type": "stream",
     "text": [
      "Epoch 212/1000\n",
      "1131/1131 [==============================] - 3s 3ms/step - loss: 0.2013 - val_loss: 0.1849\n"
     ]
    },
    {
     "name": "stderr",
     "output_type": "stream",
     "text": [
      "2024-12-04 21:52:30,358 - INFO - Epoch 212: {'loss': 0.20130015909671783, 'val_loss': 0.18485790491104126, 'lr': 2.5e-05}\n"
     ]
    },
    {
     "name": "stdout",
     "output_type": "stream",
     "text": [
      "Epoch 213/1000\n",
      "1131/1131 [==============================] - 3s 3ms/step - loss: 0.2032 - val_loss: 0.1854\n"
     ]
    },
    {
     "name": "stderr",
     "output_type": "stream",
     "text": [
      "2024-12-04 21:52:33,396 - INFO - Epoch 213: {'loss': 0.2031938135623932, 'val_loss': 0.1853950470685959, 'lr': 2.5e-05}\n"
     ]
    },
    {
     "name": "stdout",
     "output_type": "stream",
     "text": [
      "Epoch 214/1000\n",
      "1131/1131 [==============================] - 3s 3ms/step - loss: 0.2007 - val_loss: 0.1850\n"
     ]
    },
    {
     "name": "stderr",
     "output_type": "stream",
     "text": [
      "2024-12-04 21:52:36,435 - INFO - Epoch 214: {'loss': 0.20066741108894348, 'val_loss': 0.18504838645458221, 'lr': 2.5e-05}\n"
     ]
    },
    {
     "name": "stdout",
     "output_type": "stream",
     "text": [
      "Epoch 215/1000\n",
      "1131/1131 [==============================] - 3s 3ms/step - loss: 0.2034 - val_loss: 0.1932\n"
     ]
    },
    {
     "name": "stderr",
     "output_type": "stream",
     "text": [
      "2024-12-04 21:52:39,382 - INFO - Epoch 215: {'loss': 0.20337550342082977, 'val_loss': 0.19320040941238403, 'lr': 2.5e-05}\n"
     ]
    },
    {
     "name": "stdout",
     "output_type": "stream",
     "text": [
      "Epoch 216/1000\n",
      "1131/1131 [==============================] - 3s 3ms/step - loss: 0.2027 - val_loss: 0.1876\n"
     ]
    },
    {
     "name": "stderr",
     "output_type": "stream",
     "text": [
      "2024-12-04 21:52:42,351 - INFO - Epoch 216: {'loss': 0.20269964635372162, 'val_loss': 0.18755117058753967, 'lr': 2.5e-05}\n"
     ]
    },
    {
     "name": "stdout",
     "output_type": "stream",
     "text": [
      "Epoch 217/1000\n",
      "1131/1131 [==============================] - 3s 3ms/step - loss: 0.2019 - val_loss: 0.1848\n"
     ]
    },
    {
     "name": "stderr",
     "output_type": "stream",
     "text": [
      "2024-12-04 21:52:45,352 - INFO - Epoch 217: {'loss': 0.20194928348064423, 'val_loss': 0.1847592294216156, 'lr': 2.5e-05}\n"
     ]
    },
    {
     "name": "stdout",
     "output_type": "stream",
     "text": [
      "Epoch 218/1000\n",
      "1131/1131 [==============================] - 3s 3ms/step - loss: 0.2006 - val_loss: 0.1826\n"
     ]
    },
    {
     "name": "stderr",
     "output_type": "stream",
     "text": [
      "2024-12-04 21:52:48,311 - INFO - Epoch 218: {'loss': 0.2006366103887558, 'val_loss': 0.1825982630252838, 'lr': 2.5e-05}\n"
     ]
    },
    {
     "name": "stdout",
     "output_type": "stream",
     "text": [
      "Epoch 219/1000\n",
      "1131/1131 [==============================] - 3s 3ms/step - loss: 0.2015 - val_loss: 0.1834\n"
     ]
    },
    {
     "name": "stderr",
     "output_type": "stream",
     "text": [
      "2024-12-04 21:52:51,291 - INFO - Epoch 219: {'loss': 0.2015148401260376, 'val_loss': 0.18337073922157288, 'lr': 2.5e-05}\n"
     ]
    },
    {
     "name": "stdout",
     "output_type": "stream",
     "text": [
      "Epoch 220/1000\n",
      "1131/1131 [==============================] - 3s 3ms/step - loss: 0.2027 - val_loss: 0.1850\n"
     ]
    },
    {
     "name": "stderr",
     "output_type": "stream",
     "text": [
      "2024-12-04 21:52:54,303 - INFO - Epoch 220: {'loss': 0.20272354781627655, 'val_loss': 0.18496572971343994, 'lr': 2.5e-05}\n"
     ]
    },
    {
     "name": "stdout",
     "output_type": "stream",
     "text": [
      "Epoch 221/1000\n",
      "1131/1131 [==============================] - 3s 3ms/step - loss: 0.2022 - val_loss: 0.1859\n"
     ]
    },
    {
     "name": "stderr",
     "output_type": "stream",
     "text": [
      "2024-12-04 21:52:57,306 - INFO - Epoch 221: {'loss': 0.20222236216068268, 'val_loss': 0.18590089678764343, 'lr': 2.5e-05}\n"
     ]
    },
    {
     "name": "stdout",
     "output_type": "stream",
     "text": [
      "\n",
      "Epoch 00221: ReduceLROnPlateau reducing learning rate to 1.249999968422344e-05.\n",
      "Epoch 222/1000\n",
      "1131/1131 [==============================] - 3s 3ms/step - loss: 0.1998 - val_loss: 0.1850\n"
     ]
    },
    {
     "name": "stderr",
     "output_type": "stream",
     "text": [
      "2024-12-04 21:53:00,323 - INFO - Epoch 222: {'loss': 0.19982917606830597, 'val_loss': 0.18504609167575836, 'lr': 1.25e-05}\n"
     ]
    },
    {
     "name": "stdout",
     "output_type": "stream",
     "text": [
      "Epoch 223/1000\n",
      "1131/1131 [==============================] - 3s 3ms/step - loss: 0.1998 - val_loss: 0.1834\n"
     ]
    },
    {
     "name": "stderr",
     "output_type": "stream",
     "text": [
      "2024-12-04 21:53:03,398 - INFO - Epoch 223: {'loss': 0.199792742729187, 'val_loss': 0.18339350819587708, 'lr': 1.25e-05}\n"
     ]
    },
    {
     "name": "stdout",
     "output_type": "stream",
     "text": [
      "Epoch 224/1000\n",
      "1131/1131 [==============================] - 3s 3ms/step - loss: 0.1986 - val_loss: 0.1842\n"
     ]
    },
    {
     "name": "stderr",
     "output_type": "stream",
     "text": [
      "2024-12-04 21:53:06,391 - INFO - Epoch 224: {'loss': 0.1986258625984192, 'val_loss': 0.18423178791999817, 'lr': 1.25e-05}\n"
     ]
    },
    {
     "name": "stdout",
     "output_type": "stream",
     "text": [
      "Epoch 225/1000\n",
      "1131/1131 [==============================] - 3s 3ms/step - loss: 0.1989 - val_loss: 0.1826\n"
     ]
    },
    {
     "name": "stderr",
     "output_type": "stream",
     "text": [
      "2024-12-04 21:53:09,426 - INFO - Epoch 225: {'loss': 0.19887928664684296, 'val_loss': 0.1825690120458603, 'lr': 1.25e-05}\n"
     ]
    },
    {
     "name": "stdout",
     "output_type": "stream",
     "text": [
      "Epoch 226/1000\n",
      "1131/1131 [==============================] - 3s 3ms/step - loss: 0.1993 - val_loss: 0.1841\n"
     ]
    },
    {
     "name": "stderr",
     "output_type": "stream",
     "text": [
      "2024-12-04 21:53:12,466 - INFO - Epoch 226: {'loss': 0.1992884874343872, 'val_loss': 0.18409840762615204, 'lr': 1.25e-05}\n"
     ]
    },
    {
     "name": "stdout",
     "output_type": "stream",
     "text": [
      "Epoch 227/1000\n",
      "1131/1131 [==============================] - 3s 3ms/step - loss: 0.1995 - val_loss: 0.1836\n"
     ]
    },
    {
     "name": "stderr",
     "output_type": "stream",
     "text": [
      "2024-12-04 21:53:15,569 - INFO - Epoch 227: {'loss': 0.19945815205574036, 'val_loss': 0.18363387882709503, 'lr': 1.25e-05}\n"
     ]
    },
    {
     "name": "stdout",
     "output_type": "stream",
     "text": [
      "Epoch 228/1000\n",
      "1131/1131 [==============================] - 3s 3ms/step - loss: 0.1981 - val_loss: 0.1823\n"
     ]
    },
    {
     "name": "stderr",
     "output_type": "stream",
     "text": [
      "2024-12-04 21:53:18,613 - INFO - Epoch 228: {'loss': 0.19812890887260437, 'val_loss': 0.1822967231273651, 'lr': 1.25e-05}\n"
     ]
    },
    {
     "name": "stdout",
     "output_type": "stream",
     "text": [
      "Epoch 229/1000\n",
      "1131/1131 [==============================] - 3s 3ms/step - loss: 0.1997 - val_loss: 0.1826\n"
     ]
    },
    {
     "name": "stderr",
     "output_type": "stream",
     "text": [
      "2024-12-04 21:53:21,635 - INFO - Epoch 229: {'loss': 0.19972534477710724, 'val_loss': 0.18259026110172272, 'lr': 1.25e-05}\n"
     ]
    },
    {
     "name": "stdout",
     "output_type": "stream",
     "text": [
      "Epoch 230/1000\n",
      "1131/1131 [==============================] - 3s 3ms/step - loss: 0.2009 - val_loss: 0.1834\n"
     ]
    },
    {
     "name": "stderr",
     "output_type": "stream",
     "text": [
      "2024-12-04 21:53:24,732 - INFO - Epoch 230: {'loss': 0.20091314613819122, 'val_loss': 0.18343432247638702, 'lr': 1.25e-05}\n"
     ]
    },
    {
     "name": "stdout",
     "output_type": "stream",
     "text": [
      "Epoch 231/1000\n",
      "1131/1131 [==============================] - 3s 3ms/step - loss: 0.1983 - val_loss: 0.1842\n"
     ]
    },
    {
     "name": "stderr",
     "output_type": "stream",
     "text": [
      "2024-12-04 21:53:27,815 - INFO - Epoch 231: {'loss': 0.1983259916305542, 'val_loss': 0.18415725231170654, 'lr': 1.25e-05}\n"
     ]
    },
    {
     "name": "stdout",
     "output_type": "stream",
     "text": [
      "Restoring model weights from the end of the best epoch.\n",
      "Epoch 00231: early stopping\n"
     ]
    },
    {
     "data": {
      "image/png": "[encoded data removed]",
      "text/plain": [
       "<Figure size 720x360 with 1 Axes>"
      ]
     },
     "metadata": {
      "needs_background": "light"
     },
     "output_type": "display_data"
    }
   ],
   "source": [
    "#!/usr/bin/env python3\n",
    "# -*- coding: utf-8 -*-\n",
    "import numpy as np\n",
    "import glob\n",
    "import os\n",
    "import cv2\n",
    "import tensorflow as tf\n",
    "from sklearn.model_selection import train_test_split\n",
    "from tensorflow.keras.layers import Input, Dense, Dropout, Flatten\n",
    "from tensorflow.keras.models import Model\n",
    "import matplotlib.pyplot as plt\n",
    "import time\n",
    "import re\n",
    "import logging\n",
    "\n",
    "\n",
    "def load_catalogs(folder: str):\n",
    "    img_name = []\n",
    "    angle = []\n",
    "    throttle = []\n",
    "    \n",
    "    if os.path.isfile(f\"{folder}/catalog.txt\"):\n",
    "        filename = f\"{folder}/catalog.txt\"\n",
    "        data = []\n",
    "        with open(filename, 'r') as f:\n",
    "            # the jpg files are overwritten, so skip them\n",
    "            # Skip the first 555 lines\n",
    "            for _ in range(555):\n",
    "                next(f)  # This discards the first 555 lines\n",
    "            for line in f:\n",
    "                match = re.search(r\"image: (\\S+), index: \\d+, steering: (-?\\d+\\.\\d+), throttle: (-?\\d+\\.\\d+)\", line)\n",
    "                if match:\n",
    "                    img_name.append(match.group(1))\n",
    "                    angle.append(float(match.group(2)))\n",
    "                    throttle.append(float(match.group(3)))\n",
    "    else:\n",
    "        for file in sorted(glob.glob(f\"{folder}/*.catalog\"),\n",
    "                            key=lambda x: [\n",
    "                                int(c) if c.isdigit()\n",
    "                                else c for c in re.split(r'(\\d+)', x)]):\n",
    "            with open(file) as f:\n",
    "                for line in f:\n",
    "                    img_name.append(line.split()[7][1:-2])\n",
    "                    angle.append(float(line.split()[9][0:-1]))\n",
    "                    throttle.append(float(line.split()[13][0:-1]))\n",
    "\n",
    "    print(f'Image count: {len(img_name)}')\n",
    "    return img_name, angle, throttle\n",
    "\n",
    "\n",
    "def load_images(img_name: list, folder: str):\n",
    "    image = []\n",
    "    for i in range(len(img_name)):\n",
    "        if os.path.isfile(f\"{folder}/catalog.txt\"):\n",
    "            img = cv2.imread(os.path.join(folder, img_name[i]))\n",
    "        else:\n",
    "            img = cv2.imread(os.path.join(f\"{folder}/images\", img_name[i]))\n",
    "        assert img.shape == (224, 224, 3),\\\n",
    "            \"img %s has shape %r\" % (img_name[i], img.shape)\n",
    "        image.append(img)\n",
    "    return image\n",
    "\n",
    "\n",
    "def data_preprocessing(throttle, angle, image, reverse=False):\n",
    "    throttle = np.array(throttle)\n",
    "    steering = np.array(angle)\n",
    "    train_img = np.array(image)\n",
    "    label = steering\n",
    "    cut_height = 80\n",
    "    train_img_cut_orig = train_img[:, cut_height:224, :]\n",
    "    if reverse:\n",
    "        label = -label\n",
    "        train_img_cut_orig = train_img_cut_orig[:, ::-1, :]\n",
    "    train_img_cut_gray = np.dot(train_img_cut_orig[..., :3],\n",
    "                                 [0.299, 0.587, 0.114])\n",
    "    return train_img_cut_orig, train_img_cut_gray, label\n",
    "\n",
    "\n",
    "def save_data_as_npz(data_folder, npz_path, reverse=False):\n",
    "    img_name, angle, throttle = load_catalogs(data_folder)\n",
    "    image = load_images(img_name, data_folder)\n",
    "    image = np.array(image)\n",
    "    train_img_cut_orig, train_img_cut_gray, label = data_preprocessing(\n",
    "        throttle, angle, image, reverse)\n",
    "    np.savez_compressed(npz_path, \n",
    "                        img_name=img_name, \n",
    "                        angle=angle, \n",
    "                        throttle=throttle, \n",
    "                        train_img_cut_orig=train_img_cut_orig, \n",
    "                        train_img_cut_gray=train_img_cut_gray, \n",
    "                        label=label)\n",
    "\n",
    "\n",
    "def load_or_create_npz(data_folder, npz_path, reverse=False):\n",
    "    if reverse:\n",
    "        print(\"You are using `reverse` flag.\")\n",
    "    if os.path.exists(npz_path):\n",
    "        print(f\"Loading data from {npz_path}\")\n",
    "        data = np.load(npz_path)\n",
    "        img_name = data['img_name']\n",
    "        angle = data['angle']\n",
    "        throttle = data['throttle']\n",
    "        train_img_cut_orig = data['train_img_cut_orig']\n",
    "        train_img_cut_gray = data['train_img_cut_gray']\n",
    "        label = data['label']\n",
    "    else:\n",
    "        print(f\"{npz_path} not found, processing data...\")\n",
    "        save_data_as_npz(data_folder, npz_path, reverse)\n",
    "        data = np.load(npz_path)\n",
    "        img_name = data['img_name']\n",
    "        angle = data['angle']\n",
    "        throttle = data['throttle']\n",
    "        train_img_cut_orig = data['train_img_cut_orig']\n",
    "        train_img_cut_gray = data['train_img_cut_gray']\n",
    "        label = data['label']\n",
    "    print(f\"Loaded {len(img_name)} images.\")\n",
    "    \n",
    "    return img_name, angle, throttle, train_img_cut_orig, train_img_cut_gray, label\n",
    "\n",
    "\n",
    "def train_split(train_img_cut_orig, train_img_cut_gray, label):\n",
    "    X_train, X_test, y_train, y_test = train_test_split(\n",
    "        train_img_cut_gray, label,\n",
    "        test_size=0.15, random_state=42)\n",
    "    return X_train, X_test, y_train, y_test\n",
    "\n",
    "\n",
    "def core_cnn_layers(img_in, drop):\n",
    "    _ = img_in\n",
    "    _ = tf.keras.layers.Conv1D(filters=24, kernel_size=5,\n",
    "                               strides=2, activation='tanh',\n",
    "                               name='conv1d_1')(_)\n",
    "    _ = tf.keras.layers.Dropout(drop)(_)\n",
    "    _ = tf.keras.layers.Conv1D(filters=32, kernel_size=3,\n",
    "                               strides=1, activation='tanh',\n",
    "                               name='conv1d_2')(_)\n",
    "    _ = tf.keras.layers.Dropout(drop)(_)\n",
    "    _ = tf.keras.layers.Conv1D(filters=32, kernel_size=3,\n",
    "                               strides=1, activation='tanh',\n",
    "                               name='conv1d_3')(_)\n",
    "    _ = tf.keras.layers.Dropout(drop)(_)\n",
    "    _ = Flatten(name='flattened')(_)\n",
    "    return _\n",
    "\n",
    "\n",
    "def default_n_linear(num_outputs=None, input_shape=(120, 160)):\n",
    "    drop = 0.5\n",
    "    img_in = Input(shape=input_shape, name='img_in')\n",
    "    x = core_cnn_layers(img_in, drop)\n",
    "    x = Dense(50, activation='tanh', name='dense_1')(x)\n",
    "    x = Dropout(drop)(x)\n",
    "    outputs = Dense(1, activation='tanh', name='outputs')(x)\n",
    "    model = Model(inputs=[img_in], outputs=outputs, name='regression_tanh')\n",
    "    return model\n",
    "\n",
    "\n",
    "def train_start(model, X_train, X_test, y_train, y_test):\n",
    "    # define EarlyStopping callback\n",
    "    early_stopping = tf.keras.callbacks.EarlyStopping(\n",
    "        monitor='val_loss',  \n",
    "        patience=50,         # stop after {patience} consecutive epoches\n",
    "        restore_best_weights=True,  \n",
    "        verbose=1            # output info\n",
    "    )\n",
    "    \n",
    "    # Dynamic change lr\n",
    "    reduce_lr = tf.keras.callbacks.ReduceLROnPlateau(\n",
    "        monitor='val_loss',\n",
    "        factor=0.5,  # ratio of lowering lr\n",
    "        patience=20,  # wait until {patience} consecutive epoches\n",
    "        min_lr=1e-6,  # min lr\n",
    "        verbose=1\n",
    "    )\n",
    "    \n",
    "\n",
    "    class LoggingCallback(tf.keras.callbacks.Callback):\n",
    "        def on_epoch_end(self, epoch, logs=None):\n",
    "            logging.info(f\"Epoch {epoch + 1}: {logs}\")\n",
    "\n",
    "    optimizer = tf.optimizers.Adam(learning_rate=0.0001,\n",
    "                                    beta_1=0.9, beta_2=0.999)\n",
    "    model.compile(optimizer=optimizer, loss=\"mse\")\n",
    "    model.summary(print_fn=logging.info)  # model info\n",
    "    \n",
    "    \n",
    "    trained_model = model.fit(\n",
    "        X_train, y_train,\n",
    "        epochs=1000,  \n",
    "        batch_size=16,\n",
    "        validation_data=(X_test, y_test),\n",
    "        callbacks=[early_stopping, reduce_lr, LoggingCallback()]\n",
    "    )\n",
    "    return trained_model\n",
    "\n",
    "\n",
    "def plot_trained_model(trained_model, show: bool = False, save: bool = True):\n",
    "    history = trained_model.history\n",
    "\n",
    "    plt.figure(figsize=(10, 5))\n",
    "    plt.plot(history['loss'], label='Train Loss', color='blue')\n",
    "    plt.plot(history['val_loss'], label='Validation Loss', color='orange')\n",
    "    plt.title('Model Loss (MSE)')\n",
    "    plt.ylabel('Mean Squared Error (MSE)')\n",
    "    plt.xlabel('Epoch')\n",
    "    plt.legend()\n",
    "    if save:\n",
    "        plt.savefig(f'Loss_{time.strftime(\"%Y%m%d-%H%M%S\")}.png', bbox_inches='tight')\n",
    "    if show:\n",
    "        plt.show()\n",
    "\n",
    "\n",
    "\n",
    "if __name__ == \"__main__\":\n",
    "    data_folder = \"../data/data_0202\"\n",
    "    npz_file = os.path.join(data_folder, \"processed_data.npz\")\n",
    "    # for reversed data\n",
    "    npz_file_r = os.path.join(data_folder, \"processed_data_r.npz\")\n",
    "    model_save_folder = f\"model_{os.path.basename(data_folder)}\"\n",
    "    log_save_folder = f\"log_{os.path.basename(data_folder)}\"\n",
    "    \n",
    "    os.makedirs(model_save_folder, exist_ok=True)\n",
    "    os.makedirs(log_save_folder, exist_ok=True)\n",
    "    \n",
    "    # Set logger\n",
    "    log_filename = os.path.join(log_save_folder, f'training_log_{time.strftime(\"%Y%m%d-%H%M%S\")}.log')\n",
    "    logging.basicConfig(\n",
    "        filename=log_filename,\n",
    "        level=logging.INFO,\n",
    "        format='%(asctime)s - %(levelname)s - %(message)s'\n",
    "    )\n",
    "\n",
    "    console_handler = logging.StreamHandler()\n",
    "    console_handler.setLevel(logging.INFO)\n",
    "    console_formatter = logging.Formatter('%(asctime)s - %(levelname)s - %(message)s')\n",
    "    console_handler.setFormatter(console_formatter)\n",
    "\n",
    "    file_handler = logging.FileHandler(log_filename)\n",
    "    file_handler.setLevel(logging.INFO)\n",
    "    file_handler.setFormatter(console_formatter)\n",
    "\n",
    "    # Add to root logger\n",
    "    logging.getLogger().addHandler(console_handler)\n",
    "    logging.getLogger().addHandler(file_handler)\n",
    "    \n",
    "\n",
    "    # Load or create npz data\n",
    "    img_name, angle, throttle, train_img_cut_orig, \\\n",
    "    train_img_cut_gray, label = load_or_create_npz(data_folder, npz_file)\n",
    "    \n",
    "    # Load or create reversed npz data\n",
    "    img_name_r, angle_r, throttle_r, train_img_cut_orig_r, \\\n",
    "    train_img_cut_gray_r, label_r = load_or_create_npz(data_folder,\n",
    "                                                       npz_file_r,\n",
    "                                                       reverse=True)\n",
    "                                                       \n",
    "    # Apppend reversed data                                                                                                       reverse=False)\n",
    "    print(len(train_img_cut_orig), len(train_img_cut_gray), len(label))\n",
    "    train_img_cut_orig = np.vstack((train_img_cut_orig, train_img_cut_orig_r))\n",
    "    train_img_cut_gray = np.vstack((train_img_cut_gray, train_img_cut_gray_r))\n",
    "    label = np.hstack((label, label_r))\n",
    "    print(len(train_img_cut_orig), len(train_img_cut_gray), len(label))\n",
    "\n",
    "\n",
    "    X_train, X_test, y_train, y_test = train_split(\n",
    "        train_img_cut_orig, train_img_cut_gray, label)\n",
    "    model = default_n_linear(1, input_shape=(144, 224))\n",
    "    trained_model = train_start(model, X_train, X_test, y_train, y_test)\n",
    "    plot_trained_model(trained_model, show=False, save=True)\n",
    "    model.save(os.path.join(model_save_folder, f\"model_{time.ctime(time.time())}.h5\"))"
   ]
  },
  {
   "cell_type": "code",
   "execution_count": null,
   "id": "3abdab4a-8184-4edd-84cb-93e39ff40159",
   "metadata": {},
   "outputs": [],
   "source": []
  }
 ],
 "metadata": {
  "kernelspec": {
   "display_name": "Tensorflow-2.6.0",
   "language": "python",
   "name": "tensorflow-2.6.0"
  },
  "language_info": {
   "codemirror_mode": {
    "name": "ipython",
    "version": 3
   },
   "file_extension": ".py",
   "mimetype": "text/x-python",
   "name": "python",
   "nbconvert_exporter": "python",
   "pygments_lexer": "ipython3",
   "version": "3.9.7"
  }
 },
 "nbformat": 4,
 "nbformat_minor": 5
}
